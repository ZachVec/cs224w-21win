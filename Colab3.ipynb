{
  "cells": [
    {
      "cell_type": "markdown",
      "metadata": {
        "id": "XuXWJLEm2UWS"
      },
      "source": [
        "# **CS224W - Colab 3**\n",
        "\n",
        "在 Colab2 中，我们用 `PyG` 搭建了一个GNN模型。在本次实验中，我们将实现**GraphSAGE** ([Hamilton et al. (2017)](https://arxiv.org/abs/1706.02216)) 和 **GAT** ([Veličković et al. (2018)](https://arxiv.org/abs/1710.10903)) 网络。然后在 CORA 数据集上跑我们的模型，CORA 数据集是一个标准引用网络评测数据集。\n",
        "\n",
        "然后，我们将在不同的设置下分割图并对数据集加以变化，其中会使用到 Python 用来帮助进行高性能图深度学习的库——[DeepSNAP](https://snap.stanford.edu/deepsnap/) 库。\n",
        "\n",
        "最后，使用 DeepSNAP 的直推式连接预测分割功能，我们搭建了一个用来进行连接预测任务的简单 GNN 模型。\n",
        "\n",
        "**注意**：确保顺序执行所有代码单元，否则变量或库无法在之后的单元中使用。实验愉快 ：）\n",
        "\n",
        "> 在实验开始之前，请确保正确安装了 [PyG](https://pytorch-geometric.readthedocs.io/en/latest/notes/installation.html) 以及 [DeepSNAP](https://snap.stanford.edu/deepsnap/notes/installation.html) 第三方库。"
      ]
    },
    {
      "cell_type": "code",
      "execution_count": 1,
      "metadata": {
        "id": "PRfgbfTjCRD_"
      },
      "outputs": [
        {
          "data": {
            "text/plain": [
              "'2.0.4'"
            ]
          },
          "execution_count": 1,
          "metadata": {},
          "output_type": "execute_result"
        }
      ],
      "source": [
        "import torch_geometric\n",
        "torch_geometric.__version__"
      ]
    },
    {
      "cell_type": "markdown",
      "metadata": {
        "id": "ZoXlf4MtYrbz"
      },
      "source": [
        "## 1 GNN 层\n",
        "\n",
        "在 Colab2 中，我们实现了用来进行结点和图分类任务的模型。但是，其中用到的 `GCNConv` 是官方库中提供的模块。在本实验中，我们会提供格尼一个通用的GNN堆叠框架，你可以将你自己实现的 `GraphSAGE` 模块和 `GAT` 模块插入。我们会使用最终实现来在 CORA 数据集上进行结点分类测试。在这个数据集中，结点是文档，边是无向引用。每个结点都有一个类标签。结点特征是文档的 Bag of Words 表征。在 Cora 数据集中，一共有2708个结点、5429条边，以及7个结点类别，并且每个结点都有1433维特征。"
      ]
    },
    {
      "cell_type": "markdown",
      "metadata": {
        "id": "H4ne6Gw-CT5G"
      },
      "source": [
        "### GNN 堆叠模块\n",
        "\n",
        "下面是可以插入任何层的通用GNN模块，包括 **GraphSage** 和 **GAT** 等。你只需要将自己的 **GraphSage** 和 **GAT** 模块作为组件插入其中即可。"
      ]
    },
    {
      "cell_type": "code",
      "execution_count": 2,
      "metadata": {
        "id": "Ys8vZAFPCWWe"
      },
      "outputs": [],
      "source": [
        "import torch\n",
        "import torch_scatter\n",
        "import torch.nn as nn\n",
        "import torch.nn.functional as F\n",
        "\n",
        "import torch_geometric.nn as pyg_nn\n",
        "import torch_geometric.utils as pyg_utils\n",
        "\n",
        "from torch import Tensor\n",
        "from typing import Union, Tuple, Optional\n",
        "from torch_geometric.typing import (OptPairTensor, Adj, Size, NoneType,\n",
        "                                    OptTensor)\n",
        "\n",
        "from torch.nn import Parameter, Linear\n",
        "from torch_sparse import SparseTensor, set_diag\n",
        "from torch_geometric.nn.conv import MessagePassing\n",
        "from torch_geometric.utils import remove_self_loops, add_self_loops, softmax\n",
        "\n",
        "class GNNStack(torch.nn.Module):\n",
        "    def __init__(self, input_dim, hidden_dim, output_dim, args, emb=False):\n",
        "        assert args.num_layers >= 1, 'Number of layers is not >=1'\n",
        "        super(GNNStack, self).__init__()\n",
        "        conv_model = self.build_conv_model(args.model_type)\n",
        "        # In case of multi-head attention mechanism is applied,\n",
        "        # here we make the size of convolution model input being\n",
        "        # num_heads * hidden_dim and so does the post-message processing layer.\n",
        "        self.convs = nn.ModuleList()\n",
        "        self.convs.append(conv_model(input_dim, hidden_dim))\n",
        "        self.convs.extend([conv_model(args.heads * hidden_dim, hidden_dim)\n",
        "            for _ in range(args.num_layers-1)])\n",
        "\n",
        "        # post-message-passing\n",
        "        self.post_mp = nn.Sequential(\n",
        "            nn.Linear(args.heads * hidden_dim, hidden_dim),\n",
        "            nn.Dropout(args.dropout), \n",
        "            nn.Linear(hidden_dim, output_dim)\n",
        "        )\n",
        "        self.dropout = args.dropout\n",
        "        self.emb = emb\n",
        "\n",
        "    def build_conv_model(self, model_type):\n",
        "        if model_type == 'GraphSage':\n",
        "            return GraphSage\n",
        "        elif model_type == 'GAT':\n",
        "            return GAT\n",
        "\n",
        "    def forward(self, data):\n",
        "        x, edge_index, _ = data.x, data.edge_index, data.batch\n",
        "          \n",
        "        for conv in self.convs: # range(self.num_layers):\n",
        "            x = conv(x, edge_index)\n",
        "            x = F.relu(x)\n",
        "            x = F.dropout(x, p=self.dropout, training=self.training)\n",
        "\n",
        "        x = self.post_mp(x)\n",
        "\n",
        "        return x if self.emb else F.log_softmax(x, dim=1)\n",
        "\n",
        "    def loss(self, pred, label):\n",
        "        return F.nll_loss(pred, label)"
      ]
    },
    {
      "cell_type": "markdown",
      "metadata": {
        "id": "syDtxjxoCZgq"
      },
      "source": [
        "### 实现 GraphSage\n",
        "\n",
        "现在开始实现我们自己的网络层！这一部分可以让你熟悉一下如何基于消息传递（Message Passing）实现网络层。你将实现 `forward`、`message` 以及 `aggregate` 方法。\n",
        "\n",
        "总的来说，`forward` 方法是信息传递发生的地方。在一次迭代内的所有东西都发生在 `forward` 里，其中包括调用 `propagate` 方法来将邻域结点的信息（information）传播到中央结点。一般来说是预处理 -> 传播 -> 后处理。\n",
        "\n",
        "一般来说，`propagate` 会进行三个步骤：\n",
        "\n",
        "1. 调用 `message` 方法来把邻域结点的信息（information）转变为消息（message）；\n",
        "2. 调用 `aggregate` 来将所有消息从邻域聚合为一；\n",
        "3. 调用 `update` 方法会进一步生成下一次迭代的结点嵌入。\n",
        "\n",
        "但是我们的实现和上述过程稍微有些不一样，因为我们不会实现 `update`，而是将更新结点的逻辑放在 `forward` 方法中。更具体点来说，在信息（information）传播之后，我们直接在 `propagate` 的结果上进行一些操作，使得 `forward` 结果刚好是这次迭代完之后的节点嵌入。\n",
        "\n",
        "除此之外，传递给 `propagate` 函数当参数的张量也可以通过在变量名后加上 `_i` 或 `_j` 后缀来映射为结点 $i$ 和结点 $j$ 相关的张量，比如 $x_j$ 和 $x_j$。注意我们用 $i$ 指代中央节点，用 $j$ 指代邻居结点。\n",
        "\n",
        "注释里会有更多细节。值得注意的是，我们在 **GraphSAGE** 里加入了 **Skip Connection**。更新规则可以用公式更正式地描述为：\n",
        "\n",
        "$$\n",
        "\\begin{equation}\n",
        "h_v^{(l)} = W_l\\cdot h_v^{(l-1)} + W_r \\cdot AGG(\\{h_u^{(l-1)}, \\forall u \\in N(v) \\})\n",
        "\\end{equation}\n",
        "$$\n",
        "\n",
        "简单起见，我们这里使用了平均聚合，其中\n",
        "\n",
        "$$\n",
        "\\begin{equation}\n",
        "AGG(\\{h_u^{(l-1)}, \\forall u \\in N(v) \\}) = \\frac{1}{|N(v)|} \\sum_{u\\in N(v)} h_u^{(l-1)}\n",
        "\\end{equation}\n",
        "$$\n",
        "\n",
        "除此之外, 每次迭代都会加入 $\\ell$-2 正则。\n",
        "\n",
        "> 为了正确地实现，我们得先理解下各个方法之间如何互动。在`propagate` 中，我们传入任何需要地参数。比如，我们将 `x` 当成参数传入：\n",
        "> \n",
        "> $$\n",
        "> \\dots = propagate(\\dots, x=(x_\\text{central}, x_\\text{neighbor}), \\dots)\n",
        "> $$\n",
        "> \n",
        "> 这里的 $x_\\text{central}$ 和 $x_\\text{neighbor}$ 分别代表来自中央和邻域的结点。如果中央和邻域的结点的表征是同一套表征，则 $x_\\text{central}$ 和 $x_\\text{neighbor}$ 一样。\n",
        "> \n",
        "> 不妨假设 $x_\\text{central}$ 和 $x_\\text{neighbor}$ 的形状都是 $N\\times d$，其中 $N$ 是结点个数，$d$ 是特征维度。\n",
        "> \n",
        "> 那么在 `message` 方法中，我们可以取叫做 `x_i` 和 `x_j` 的参数，则这里的 `x_i` 和 `x_j` 的形状都是 $E\\times d$，而不是 $N\\times d$！`x_i`是通过将所有边中的中央结点拼接起来生成的，类似地，`x_j` 是通过将所有边中的邻居结点拼接起来生成的。\n",
        "> \n",
        "> 让我们看看例子。假设我们有四个结点，所以 $x_\\text{central}$ 和 $x_\\text{neighbor}$ 的形状是 $4\\times d$。我们有两条边 (1, 2) 和 (3, 0)，因此 $x_i$ 是$\\left[x_\\text{central}[1]; x_\\text{central}[3]\\right]$, `x_j` 为$\\left[x_\\text{central}[2]; x_\\text{central}[0]\\right]$。\n",
        "> \n",
        "<font color='red'>接下来的问题请不要参考网上的实现！</font>"
      ]
    },
    {
      "cell_type": "code",
      "execution_count": 3,
      "metadata": {
        "colab": {
          "background_save": true
        },
        "id": "RwG4HqCFCaOD"
      },
      "outputs": [],
      "source": [
        "class GraphSage(MessagePassing):\n",
        "    \n",
        "    def __init__(self, in_channels, out_channels, normalize = True, bias = False, **kwargs):  \n",
        "        super(GraphSage, self).__init__(**kwargs)\n",
        "\n",
        "        self.in_channels = in_channels\n",
        "        self.out_channels = out_channels\n",
        "        self.normalize = normalize\n",
        "\n",
        "        self.lin_l = Linear(in_channels, out_channels, bias=bias)\n",
        "        self.lin_r = Linear(in_channels, out_channels, bias=bias)\n",
        "\n",
        "        self.reset_parameters()\n",
        "\n",
        "    def reset_parameters(self):\n",
        "        self.lin_l.reset_parameters()\n",
        "        self.lin_r.reset_parameters()\n",
        "\n",
        "    def forward(self, x, edge_index, size = None):\n",
        "        out = self.propagate(edge_index, x=(x,x), size=size)     # first argument in x=(x,x) is x_j, the second is x_i\n",
        "        out = self.lin_l(x) + out\n",
        "        return F.normalize(out, p=2) if self.normalize else out\n",
        "\n",
        "    def message(self, x_j):\n",
        "        return self.lin_r(x_j)\n",
        "\n",
        "    def aggregate(self, inputs, index):\n",
        "        # The axis along which to index number of nodes.\n",
        "        node_dim = self.node_dim\n",
        "        \n",
        "        # Aggregation\n",
        "        return torch_scatter.scatter(inputs, index, node_dim, reduce=\"mean\")\n"
      ]
    },
    {
      "cell_type": "markdown",
      "metadata": {
        "id": "qjcfF3RACdLD"
      },
      "source": [
        "### 实现 GAT\n",
        "\n",
        "注意力机制现在在许多基于次序的任务中成为了 Sota 模型，比如机器翻译、学习句子表征等任务。注意力机制的一个主要好处就是它能关注输入中最相关的部分来做出决策。在本次实验中，让我们通过使用 `GAT` 来看看如何使用注意力机制进行图结构数据的结点分类任务。\n",
        "\n",
        "GAT 的基础模块就是图注意力层，是聚合函数的一种变体。假设有 $N$ 个结点，每个结点有 $F$ 维特征向量。则每个图注意力层的输入都是结点特征的集合：$\\mathbf{h} = \\left\\{\\overrightarrow{h_1}, \\overrightarrow{h_2}, \\dots, \\overrightarrow{h_N}\\right\\}$，$\\overrightarrow{h_i} \\in R^F$，输出则是新的结点特征集，但是维度可能变成了 $F^\\prime$：$\\mathbf{h^\\prime} = \\left\\{\\overrightarrow{h_1^\\prime}, \\overrightarrow{h_2^\\prime}, \\dots, \\overrightarrow{h_N^\\prime}\\right\\}$，其中 $\\overrightarrow{h_i^\\prime} \\in \\mathbb{R}^{F^\\prime}$。\n",
        "\n",
        "我们现在来讲讲图注意力层如何将输入特征转化成更高级别的特征。首先，每个结点都需要经过一个公用的线性变换，即参数矩阵$\\mathbf{W} \\in \\mathbb{R}^{F^\\prime \\times F}$。然后，再给每个结点加上自注意力机制：\n",
        "\n",
        "$$\n",
        "\\begin{equation} \n",
        "a : \\mathbb{R}^{F'} \\times \\mathbb{R}^{F'} \\rightarrow \\mathbb{R}.\n",
        "\\end{equation}\n",
        "$$\n",
        "\n",
        "这个机制会计算出注意力系数，而注意力系数则代表结点 $j$ 的特征对于结点 $i$ 的重要程度：\n",
        "\n",
        "$$\n",
        "\\begin{equation}\n",
        "e_{ij} = a\\left(\\mathbf{W_l}\\overrightarrow{h_i}, \\mathbf{W_r} \\overrightarrow{h_j}\\right)\n",
        "\\end{equation}\n",
        "$$\n",
        "\n",
        "最一般的自注意力机制就是丢掉结构信息，然后每个结点都对其他所有结点计算注意力。但为了使用图结构信息，我们在注意力机制中使用的是掩码注意力（masked attention）。在掩码注意力中，我们只计算邻域结点的注意力系数 $e_{ij}$。\n",
        "\n",
        "为了方便比较不同结点的系数，我们关于 $j$ 对系数使用 softmax 函数进行了归一化：\n",
        "\n",
        "$$\n",
        "\\begin{equation}\n",
        "\\alpha_{ij} = \\text{softmax}_j(e_{ij}) = \\frac{\\exp(e_{ij})}{\\sum_{k \\in \\mathcal{N}_i} \\exp(e_{ik})}\n",
        "\\end{equation}\n",
        "$$\n",
        "\n",
        "我们的注意力机制 $a$ 是一个单层前播神经网络，其中的参数为$\\overrightarrow{a} \\in \\mathbb{R}^{F^\\prime}$，之后会有一个 LeakyReLU 非线性（负数输入的斜率是0.2）。让我们将 $\\cdot^\\top$ 记为转置，记 $\\|$ 为拼接，则我们注意力机制则可以用公式表述为\n",
        "\n",
        "$$\n",
        "\\begin{equation}\n",
        "\\alpha_{ij} = \\frac{\\exp\\Big(\\text{LeakyReLU}\\Big(\\overrightarrow{a_l}^\\top \\mathbf{W_l} \\overrightarrow{h_i} + \\overrightarrow{a_r}^\\top\\mathbf{W_r}\\overrightarrow{h_j}\\Big)\\Big)}{\\sum_{k\\in \\mathcal{N}_i} \\exp\\Big(\\text{LeakyReLU}\\Big(\\overrightarrow{a_l}^\\top \\mathbf{W_l} \\overrightarrow{h_i} + \\overrightarrow{a_r}^\\top\\mathbf{W_r}\\overrightarrow{h_k}\\Big)\\Big)}\n",
        "\\end{equation}\n",
        "$$\n",
        "\n",
        "在后续问题中，我们约定：$\\alpha_l = [...,\\overrightarrow{a_l}^\\top \\mathbf{W_l} \\overrightarrow{h_i},...]$ 以及 $\\alpha_r = [..., \\overrightarrow{a_r}^\\top \\mathbf{W_r} \\overrightarrow{h_j}, ...]$。\n",
        "\n",
        "在 GAT 中的每一层中，计算完注意力系数之后，聚合函数的结果都可由邻域消息加权求和得到，其中权重都由 $\\alpha_{ij}$ 指定。\n",
        "\n",
        "目前，我们通常使用使用归一化的注意力系数来计算邻域内特征的线性组合。这些聚合结果最终就是输出的结点特征。\n",
        "\n",
        "$$\n",
        "\\begin{equation}\n",
        "h_i^\\prime = \\sum_{j \\in \\mathcal{N}_i} \\alpha_{ij} \\mathbf{W_r} \\overrightarrow{h_j}.\n",
        "\\end{equation}\n",
        "$$\n",
        "\n",
        "为了稳定自注意力的学习过程，我们采用多头注意力机制。即使用 $K$ 个独立的注意力机制，或者叫“头”，来计算出上式的输出特征。然后我们将这些输出特征拼接起来：\n",
        "\n",
        "$$\n",
        "\\begin{equation}\n",
        "    \\overrightarrow{h_i}^\\prime = \\|_{k=1}^K \\Big(\\sum_{j \\in \\mathcal{N}_i} \\alpha_{ij}^{(k)} \\mathbf{W_r}^{(k)} \\overrightarrow{h_j}\\Big)\n",
        "\\end{equation}\n",
        "$$\n",
        "\n",
        "其中 $\\|$ 是拼接，$\\alpha_{ij}^{(k)}$ 是 $k$ 头归一化的注意力机制 $(a^k)$，且 $\\mathbf{W}^{(k)}$ 是对应输入线性变换的权重矩阵。注意，在当前情况下，$\\mathbf{h'} \\in \\mathbb{R}^{KF'}$。"
      ]
    },
    {
      "cell_type": "code",
      "execution_count": 4,
      "metadata": {
        "colab": {
          "background_save": true
        },
        "id": "w4j45gTpCeXO"
      },
      "outputs": [],
      "source": [
        "class GAT(MessagePassing):\n",
        "\n",
        "    def __init__(self, in_channels, out_channels, heads = 2, negative_slope = 0.2, dropout = 0., **kwargs):\n",
        "        super(GAT, self).__init__(node_dim=0, **kwargs)\n",
        "\n",
        "        self.in_channels = in_channels\n",
        "        self.out_channels = out_channels\n",
        "        self.heads = heads\n",
        "        self.negative_slope = negative_slope\n",
        "        self.dropout = dropout\n",
        "\n",
        "        # Linear transformation shared by central node and neighbor nodes,\n",
        "        # i.e. W_l and W_r. The feature dimension will transformed from F to F'.\n",
        "        self.lin_l = Linear(in_channels, heads * out_channels)\n",
        "        self.lin_r = self.lin_l\n",
        "\n",
        "        # multi-head attention mechanism for central node and neighbor nodes respectively.\n",
        "        self.att_l = Parameter(torch.randn(heads, out_channels), requires_grad=True)\n",
        "        self.att_r = Parameter(torch.randn(heads, out_channels), requires_grad=True)\n",
        "\n",
        "        self.reset_parameters()\n",
        "\n",
        "    def reset_parameters(self):\n",
        "        nn.init.xavier_uniform_(self.lin_l.weight)\n",
        "        nn.init.xavier_uniform_(self.lin_r.weight)\n",
        "        nn.init.xavier_uniform_(self.att_l)\n",
        "        nn.init.xavier_uniform_(self.att_r)\n",
        "\n",
        "    def forward(self, x: Tensor, edge_index: Adj, size = None):\n",
        "        \n",
        "        H, C = self.heads, self.out_channels\n",
        "\n",
        "        x_l: Tensor = self.lin_l(x).view(-1, H, C)\n",
        "        x_r: Tensor = self.lin_r(x).view(-1, H, C)\n",
        "        alpha_l, alpha_r = (self.att_l * x_l).sum(dim=-1, keepdim=True), (self.att_r * x_r).sum(dim=-1, keepdim=True)\n",
        "        \n",
        "        # Propagate\n",
        "        out = self.propagate(edge_index, size=size, x=(x_r, x_l), alpha=(alpha_r, alpha_l))\n",
        "\n",
        "        # reshape the tensor\n",
        "        return out.view(-1, H * C)\n",
        "\n",
        "\n",
        "    def message(self, x_j, alpha_j, alpha_i, index, ptr, size_i):\n",
        "        # 1. Calculate attention weights and apply leaky relu.\n",
        "        alpha_ij: Tensor = F.leaky_relu(alpha_i + alpha_j, negative_slope=self.negative_slope)\n",
        "        # 2. Use the softmax imported from torch_geometric.utils to normalize\n",
        "        alpha_ij: Tensor = softmax(alpha_ij, index=index, ptr=ptr, num_nodes=size_i)\n",
        "        # 3. Apply dropout to attention weights\n",
        "        alpha_ij: Tensor = F.dropout(alpha_ij, p=self.dropout, training=self.training)\n",
        "        # 4. Multiply embeddings\n",
        "        return alpha_ij * x_j\n",
        "\n",
        "\n",
        "    def aggregate(self, inputs, index, dim_size = None):\n",
        "        return torch_scatter.scatter(inputs, index, self.node_dim, dim_size=dim_size, reduce=\"sum\")"
      ]
    },
    {
      "cell_type": "markdown",
      "metadata": {
        "id": "V2dkgSuWCheU"
      },
      "source": [
        "### 构建优化器\n",
        "\n",
        "这个函数已经替你实现了。"
      ]
    },
    {
      "cell_type": "code",
      "execution_count": 5,
      "metadata": {
        "id": "f_TIQ8NPCjBP"
      },
      "outputs": [],
      "source": [
        "import torch.optim as optim\n",
        "\n",
        "def build_optimizer(args, params):\n",
        "    weight_decay = args.weight_decay\n",
        "    filter_fn = filter(lambda p : p.requires_grad, params)\n",
        "    if args.opt == 'adam':\n",
        "        optimizer = optim.Adam(filter_fn, lr=args.lr, weight_decay=weight_decay)\n",
        "    elif args.opt == 'sgd':\n",
        "        optimizer = optim.SGD(filter_fn, lr=args.lr, momentum=0.95, weight_decay=weight_decay)\n",
        "    elif args.opt == 'rmsprop':\n",
        "        optimizer = optim.RMSprop(filter_fn, lr=args.lr, weight_decay=weight_decay)\n",
        "    elif args.opt == 'adagrad':\n",
        "        optimizer = optim.Adagrad(filter_fn, lr=args.lr, weight_decay=weight_decay)\n",
        "    if args.opt_scheduler == 'none':\n",
        "        return None, optimizer\n",
        "    elif args.opt_scheduler == 'step':\n",
        "        scheduler = optim.lr_scheduler.StepLR(optimizer, step_size=args.opt_decay_step, gamma=args.opt_decay_rate)\n",
        "    elif args.opt_scheduler == 'cos':\n",
        "        scheduler = optim.lr_scheduler.CosineAnnealingLR(optimizer, T_max=args.opt_restart)\n",
        "    return scheduler, optimizer"
      ]
    },
    {
      "cell_type": "markdown",
      "metadata": {
        "id": "hBYdWFwYCkwY"
      },
      "source": [
        "### 训练和测试\n",
        "\n",
        "这里我们给你提供了训练和测试的函数。"
      ]
    },
    {
      "cell_type": "code",
      "execution_count": 6,
      "metadata": {
        "id": "_tZMWRc8CmGg"
      },
      "outputs": [],
      "source": [
        "import time\n",
        "\n",
        "import networkx as nx\n",
        "import numpy as np\n",
        "import torch\n",
        "import torch.optim as optim\n",
        "\n",
        "from torch_geometric.datasets import TUDataset\n",
        "from torch_geometric.datasets import Planetoid\n",
        "from torch_geometric.loader import DataLoader\n",
        "\n",
        "import torch_geometric.nn as pyg_nn\n",
        "\n",
        "import matplotlib.pyplot as plt\n",
        "\n",
        "\n",
        "def train(dataset, args):\n",
        "    \n",
        "    print(\"Node task. test set size:\", np.sum(dataset[0]['train_mask'].numpy()))\n",
        "    test_loader = loader = DataLoader(dataset, batch_size=args.batch_size, shuffle=True)\n",
        "\n",
        "    # build model\n",
        "    model = GNNStack(dataset.num_node_features, args.hidden_dim, dataset.num_classes, \n",
        "                            args)\n",
        "    scheduler, opt = build_optimizer(args, model.parameters())\n",
        "\n",
        "    # train\n",
        "    losses = []\n",
        "    test_accs = []\n",
        "    for epoch in range(args.epochs):\n",
        "        total_loss = 0\n",
        "        model.train()\n",
        "        for batch in loader:\n",
        "            opt.zero_grad()\n",
        "            pred = model(batch)\n",
        "            label = batch.y\n",
        "            pred = pred[batch.train_mask]\n",
        "            label = label[batch.train_mask]\n",
        "            loss = model.loss(pred, label)\n",
        "            loss.backward()\n",
        "            opt.step()\n",
        "            total_loss += loss.item() * batch.num_graphs\n",
        "        total_loss /= len(loader.dataset)\n",
        "        losses.append(total_loss)\n",
        "\n",
        "        if epoch % 10 == 0:\n",
        "          test_acc = test(test_loader, model)\n",
        "          test_accs.append(test_acc)\n",
        "        else:\n",
        "          test_accs.append(test_accs[-1])\n",
        "    return test_accs, losses\n",
        "\n",
        "def test(loader, model, is_validation=True):\n",
        "    model.eval()\n",
        "\n",
        "    correct = 0\n",
        "    for data in loader:\n",
        "        with torch.no_grad():\n",
        "            # max(dim=1) returns values, indices tuple; only need indices\n",
        "            pred = model(data).max(dim=1)[1]\n",
        "            label = data.y\n",
        "\n",
        "        mask = data.val_mask if is_validation else data.test_mask\n",
        "        # node classification: only evaluate on nodes in test set\n",
        "        pred = pred[mask]\n",
        "        label = data.y[mask]\n",
        "            \n",
        "        correct += pred.eq(label).sum().item()\n",
        "\n",
        "    total = 0\n",
        "    for data in loader.dataset:\n",
        "        total += torch.sum(data.val_mask if is_validation else data.test_mask).item()\n",
        "    return correct / total\n",
        "  \n",
        "class objectview(object):\n",
        "    def __init__(self, **d):\n",
        "        self.__dict__ = d\n"
      ]
    },
    {
      "cell_type": "markdown",
      "metadata": {
        "id": "L7-h7jIsCns4"
      },
      "source": [
        "### 开始训练！\n",
        "\n",
        "我们将在 CORA 数据集上进行结点分类任务。这一部分已经替你实现好了。"
      ]
    },
    {
      "cell_type": "code",
      "execution_count": 7,
      "metadata": {
        "id": "qe9B45l9Cpz2"
      },
      "outputs": [
        {
          "name": "stdout",
          "output_type": "stream",
          "text": [
            "Node task. test set size: 140\n",
            "Maximum accuracy: 0.744\n",
            "Minimum loss: 0.10387597978115082\n",
            "Node task. test set size: 140\n",
            "Maximum accuracy: 0.75\n",
            "Minimum loss: 0.01981864497065544\n"
          ]
        },
        {
          "data": {
            "image/png": "[encoded data removed]",
            "text/plain": [
              "<Figure size 432x288 with 1 Axes>"
            ]
          },
          "metadata": {
            "needs_background": "light"
          },
          "output_type": "display_data"
        }
      ],
      "source": [
        "def main():\n",
        "    args = objectview(\n",
        "        model_type=\"GraphSage\",\n",
        "        dataset=\"cora\",\n",
        "        num_layers=2,\n",
        "        heads=1,\n",
        "        batch_size=32,\n",
        "        hidden_dim=32,\n",
        "        dropout=0.5,\n",
        "        epochs=500,\n",
        "        opt=\"adam\",\n",
        "        opt_scheduler=\"none\",\n",
        "        opt_restart=0,\n",
        "        weight_decay=5e-3,\n",
        "        lr=0.01\n",
        "    )\n",
        "    for model_type in [\"GraphSage\", \"GAT\"]:\n",
        "        args.model_type = model_type\n",
        "        args.heads      = 2 if model_type == \"GAT\" else 1\n",
        "        dataset         = Planetoid(root=\"./dataset/\", name=\"Cora\")\n",
        "\n",
        "        test_accs, losses = train(dataset, args)\n",
        "        print(f\"Maximum accuracy: {max(test_accs)}\")\n",
        "        print(f\"Minimum loss: {min(losses)}\")\n",
        "\n",
        "        plt.title(dataset.name)\n",
        "        plt.plot(losses, label=f\"training loss - {model_type}\")\n",
        "        plt.plot(test_accs, label=f\"test accuracy - {model_type}\")\n",
        "    plt.legend()\n",
        "    plt.show()\n",
        "\n",
        "\n",
        "if __name__ == '__main__':\n",
        "    main()"
      ]
    },
    {
      "cell_type": "markdown",
      "metadata": {
        "id": "gHELqjARZ1W5"
      },
      "source": [
        "### 问题 1.1：你能使用GraphSAGE在测试集上获得的最大准确度是多少？"
      ]
    },
    {
      "cell_type": "markdown",
      "metadata": {
        "id": "PlCtBEBLMBkR"
      },
      "source": [
        "### 问题 1.2：你能使用GAT在测试集上获得的最大准确度是多少？"
      ]
    },
    {
      "cell_type": "markdown",
      "metadata": {
        "id": "Nwwq0nSdmsOL"
      },
      "source": [
        "## 2 DeepSNAP 基础\n",
        "\n",
        "之前的实验中，我们使用了图类（`NetworkX`）和张量（`PyG`）来表征图。图类`nx.Graph`提供了丰富的分析和操作功能，比如聚合系数和PageRank。为了将图喂进模型，我们得把图用张量表征，包括边张量`edge_index`和结点特征`x`及标签`y`。但是只用张量会让图操作和分析变得困难且低效。所以，本实验中我们将使用既能提供表征方式，又能提供GNN训练、验证、测试完整流水线的 DeepSNAP。\n",
        "\n",
        "概括来说，[DeepSNAP](https://github.com/snap-stanford/deepsnap) 是一个 Python 库，可以辅助我们进行高效的图深度学习。DeepSNAP 支持灵活的图操作，标准流水线，以及异构图和简单的API。\n",
        "\n",
        "1. DeepSNAP 可以很容易地在训练前或中进行复杂地图操作，比如特征计算，预训练，子图抽取等。\n",
        "2. 在大多数框架中，归纳式或是直推式的结点、边、以及图任务的标准流水线都得用户来编码。实际上，还涉及到一些额外的选择（比如如何分割用于连接预测的数据集）。DeepSNAP 提供了这样的标准流水线，节省了很多编码的时间，并且让不同模型之间的比较更加公平。\n",
        "3. 许多现实世界的数据集是异构网络，但是支持异构网络（包括数据存储和灵活的消息传递）的库很少。DeepSNAP提供了一套高效灵活、支持结点和边异构的工具。\n",
        "\n",
        "[DeepSNAP](https://github.com/snap-stanford/deepsnap) 是最新发布的项目，且仍在开发。如果你发现了任何 bug 或有任何改进想法，请随时在 GitHub 上提出 issue 或是发起 pull requests。\n",
        "\n",
        "本次实验中，我们将关注于 DeepSNAP 中的图操作和分割功能。"
      ]
    },
    {
      "cell_type": "markdown",
      "metadata": {
        "id": "20SvvngpQmmQ"
      },
      "source": [
        "### 配置"
      ]
    },
    {
      "cell_type": "code",
      "execution_count": 8,
      "metadata": {
        "id": "zfbBVFmAQlwz"
      },
      "outputs": [],
      "source": [
        "import torch\n",
        "import networkx as nx\n",
        "import matplotlib.pyplot as plt\n",
        "\n",
        "from deepsnap.graph import Graph\n",
        "from deepsnap.batch import Batch\n",
        "from deepsnap.dataset import GraphDataset\n",
        "from torch_geometric.datasets import Planetoid, TUDataset\n",
        "\n",
        "from torch.utils.data import DataLoader\n",
        "\n",
        "def visualize(G, color_map=None, seed=123):\n",
        "  if color_map is None:\n",
        "    color_map = '#c92506'\n",
        "  plt.figure(figsize=(8, 8))\n",
        "  nodes = nx.draw_networkx_nodes(G, pos=nx.spring_layout(G, seed=seed), \\\n",
        "                                 label=None, node_color=color_map, node_shape='o', node_size=150)\n",
        "  edges = nx.draw_networkx_edges(G, pos=nx.spring_layout(G, seed=seed), alpha=0.5)\n",
        "  if color_map is not None:\n",
        "    plt.scatter([],[], c='#c92506', label='Nodes with label 0', edgecolors=\"black\", s=140)\n",
        "    plt.scatter([],[], c='#fcec00', label='Nodes with label 1', edgecolors=\"black\", s=140)\n",
        "    plt.legend(prop={'size': 13}, handletextpad=0)\n",
        "  nodes.set_edgecolor('black')\n",
        "  plt.show()"
      ]
    },
    {
      "cell_type": "markdown",
      "metadata": {
        "id": "ic-o1P3r6hr2"
      },
      "source": [
        "### DeepSNAP 图\n",
        "\n",
        "`deepsnap.graph.Graph` 类是 DeepSNAP 中的核心类。它不仅将图表征为张量，还引用了来自图操作包的图对象。\n",
        "\n",
        "目前 DeepSNAP 支持 [NetworkX](https://networkx.org/) 和 [Snap.py](https://snap.stanford.edu/snappy/doc/index.html) 作为图操作包后端。\n",
        "\n",
        "本实验中，我们将使用 `Networkx` 作为后端图操作包。"
      ]
    },
    {
      "cell_type": "markdown",
      "metadata": {
        "id": "Ispq_lIoJl_z"
      },
      "source": [
        "首先来试试将一个简单的随机 `NetworkX` 图转化成 `DeepSNAP` 图。"
      ]
    },
    {
      "cell_type": "code",
      "execution_count": 9,
      "metadata": {
        "id": "zT5qca3x6XpG"
      },
      "outputs": [
        {
          "name": "stdout",
          "output_type": "stream",
          "text": [
            "(0, {'node_feature': tensor([0.9820, 0.1240, 0.3110, 0.1420, 0.6955]), 'node_label': tensor(1)})\n"
          ]
        },
        {
          "data": {
            "image/png": "[encoded data removed]",
            "text/plain": [
              "<Figure size 576x576 with 1 Axes>"
            ]
          },
          "metadata": {},
          "output_type": "display_data"
        },
        {
          "name": "stdout",
          "output_type": "stream",
          "text": [
            "Graph(G=[], edge_index=[2, 524], edge_label_index=[2, 524], node_feature=[100, 5], node_label=[100], node_label_index=[100])\n",
            "Node feature (node_feature) has shape torch.Size([100, 5]) and type torch.float32\n",
            "Node label (node_label) has shape torch.Size([100]) and type torch.int64\n",
            "Edge index (edge_index) has shape torch.Size([2, 524]) and type torch.int64\n",
            "The DeepSNAP graph has <class 'networkx.classes.graph.Graph'> as the internal manupulation graph\n"
          ]
        }
      ],
      "source": [
        "num_nodes = 100\n",
        "p = 0.05\n",
        "seed = 100\n",
        "\n",
        "# Generate a networkx random graph\n",
        "G = nx.gnp_random_graph(num_nodes, p, seed=seed)\n",
        "\n",
        "# Generate some random node features and labels\n",
        "node_feature = {node : torch.rand([5, ]) for node in G.nodes()}\n",
        "node_label = {node : torch.randint(0, 2, ()) for node in G.nodes()}\n",
        "\n",
        "# Set the random features and labels to G\n",
        "nx.set_node_attributes(G, node_feature, name='node_feature')\n",
        "nx.set_node_attributes(G, node_label, name='node_label')\n",
        "\n",
        "# Print one node example\n",
        "for node in G.nodes(data=True):\n",
        "  print(node)\n",
        "  break\n",
        "\n",
        "color_map = ['#c92506' if node[1].item() == 0 else '#fcec00' for node in G.nodes(data=\"node_label\")]\n",
        "\n",
        "# Visualize the graph\n",
        "visualize(G, color_map=color_map)\n",
        "\n",
        "# Transform the networkx graph into the deepsnap graph\n",
        "graph = Graph(G)\n",
        "\n",
        "# Print out the general deepsnap graph information\n",
        "print(graph)\n",
        "\n",
        "# DeepSNAP will convert node attributes to tensors\n",
        "# Notice the type of tensors\n",
        "print(f\"Node feature (node_feature) has shape {graph.node_feature.shape} and type {graph.node_feature.dtype}\")\n",
        "print(f\"Node label (node_label) has shape {graph.node_label.shape} and type {graph.node_label.dtype}\")\n",
        "\n",
        "# DeepSNAP will also generate the edge_index tensor\n",
        "print(f\"Edge index (edge_index) has shape {graph.edge_index.shape} and type {graph.edge_index.dtype}\")\n",
        "\n",
        "# Different from only storing tensors, deepsnap graph also references to the networkx graph\n",
        "# We will discuss why the reference will be helpful later\n",
        "print(f\"The DeepSNAP graph has {type(graph.G)} as the internal manupulation graph\")"
      ]
    },
    {
      "cell_type": "markdown",
      "metadata": {
        "id": "PNMbc307KOQD"
      },
      "source": [
        "DeepSNAP 有三级属性。在本例中有**结点级**属性，比如结点特征 `node_feature` 和结点标签 `node_label`。其他两级分别是**图级**和**边级**属性。用法和**结点级**类似，除了特征变成`edge_feature`或`graph_feature`，标签变成`edge_label`或`graph_label`等。"
      ]
    },
    {
      "cell_type": "markdown",
      "metadata": {
        "id": "G8Xz58_Da0qL"
      },
      "source": [
        "与 NetworkX 图类似，我们可以通过对象属性直接获取图的基本信息。"
      ]
    },
    {
      "cell_type": "code",
      "execution_count": 10,
      "metadata": {
        "id": "dLo4zWAoeg6S"
      },
      "outputs": [
        {
          "name": "stdout",
          "output_type": "stream",
          "text": [
            "The random graph has 100 nodes\n",
            "The random graph has 262 edges\n"
          ]
        }
      ],
      "source": [
        "# Number of nodes\n",
        "print(f\"The random graph has {graph.num_nodes} nodes\")\n",
        "\n",
        "# Number of edges\n",
        "print(f\"The random graph has {graph.num_edges} edges\")"
      ]
    },
    {
      "cell_type": "markdown",
      "metadata": {
        "id": "Po7IaRmwblI5"
      },
      "source": [
        "DeepSNAP 也提供了自动将 `PyG` 数据集对象转化成一个包含 `DeepSNAP` 图对象列表的函数。\n",
        "\n",
        "这里我们将 `Cora` 数据集转化成 `DeepSNAP` 图的列表试试。"
      ]
    },
    {
      "cell_type": "code",
      "execution_count": 11,
      "metadata": {
        "id": "ZFkg2kCgcFwR"
      },
      "outputs": [
        {
          "name": "stdout",
          "output_type": "stream",
          "text": [
            "Graph(G=[], edge_index=[2, 10556], edge_label_index=[2, 10556], node_feature=[2708, 1433], node_label=[2708], node_label_index=[2708])\n"
          ]
        }
      ],
      "source": [
        "root = './dataset'\n",
        "name = 'Cora'\n",
        "\n",
        "# The Cora dataset\n",
        "pyg_dataset= Planetoid(root, name)\n",
        "\n",
        "# PyG dataset to a list of deepsnap graphs\n",
        "graphs = GraphDataset.pyg_to_graphs(pyg_dataset)\n",
        "\n",
        "# Get the first deepsnap graph (CORA only has one graph)\n",
        "graph = graphs[0]\n",
        "print(graph)"
      ]
    },
    {
      "cell_type": "markdown",
      "metadata": {
        "id": "NLm5vVYMAP2x"
      },
      "source": [
        "### 问题2.1：CORA 图中有多少分类？特征维度又是多少？"
      ]
    },
    {
      "cell_type": "code",
      "execution_count": 12,
      "metadata": {
        "id": "8iF_Kyqr_JbY"
      },
      "outputs": [
        {
          "name": "stdout",
          "output_type": "stream",
          "text": [
            "Cora has 7 classes\n",
            "Cora has 1433 features\n"
          ]
        }
      ],
      "source": [
        "def get_num_node_classes(graph):\n",
        "  # TODO: Implement this function that takes a deepsnap graph object\n",
        "  # and return the number of node classes of that graph.\n",
        "\n",
        "  num_node_classes = graph.num_node_labels\n",
        "  return num_node_classes\n",
        "\n",
        "def get_num_node_features(graph):\n",
        "  # TODO: Implement this function that takes a deepsnap graph object\n",
        "  # and return the number of node features of that graph.\n",
        "\n",
        "  num_node_features = graph.num_node_features\n",
        "  return num_node_features\n",
        "\n",
        "num_node_classes = get_num_node_classes(graph)\n",
        "num_node_features = get_num_node_features(graph)\n",
        "print(f\"{name} has {num_node_classes} classes\")\n",
        "print(f\"{name} has {num_node_features} features\")"
      ]
    },
    {
      "cell_type": "markdown",
      "metadata": {
        "id": "rwKbzhHUAckZ"
      },
      "source": [
        "### DeepSNAP 数据集\n",
        "\n",
        "现在，让我们来看看 DeepSNAP 数据集。一个 `deepsnap.dataset.GraphDataset` 会包含一列 `deepsnap.graph.Graph` 对象。除了 `deepsnap.graph.Graph` 对象之外，你也可以指定这个数据集会用来进行什么任务，比如**结点级**的任务（`task=node`），**边级**任务（`task=link_pred`）以及**图级**任务（`task=graph`）。\n",
        "\n",
        "`deepsnap.dataset.GraphDataset` 也包含初始化时许多其他有用的参数以及其他功能。如果你很感兴趣，可以去看看[文档](https://snap.stanford.edu/deepsnap/modules/dataset.html#deepsnap-graphdataset)。\n",
        "\n",
        "现在先使用有很多图的 COX2 数据集，并在初始化的时候指定任务为 `graph`。"
      ]
    },
    {
      "cell_type": "code",
      "execution_count": 13,
      "metadata": {
        "id": "l4kqUldyoaS_"
      },
      "outputs": [
        {
          "name": "stdout",
          "output_type": "stream",
          "text": [
            "GraphDataset(467)\n"
          ]
        }
      ],
      "source": [
        "root = './dataset'\n",
        "name = 'COX2'\n",
        "\n",
        "# Load the dataset through PyG\n",
        "pyg_dataset = TUDataset(root, name)\n",
        "\n",
        "# Convert to a list of deepsnap graphs\n",
        "graphs = GraphDataset.pyg_to_graphs(pyg_dataset)\n",
        "\n",
        "# Convert list of deepsnap graphs to deepsnap dataset with specified task=graph\n",
        "dataset = GraphDataset(graphs, task='graph')\n",
        "print(dataset)"
      ]
    },
    {
      "cell_type": "markdown",
      "metadata": {
        "id": "7sCV3xJWCddX"
      },
      "source": [
        "### 问题2.2：在COX2数据集索引为100的图中，标签是什么？"
      ]
    },
    {
      "cell_type": "code",
      "execution_count": 14,
      "metadata": {
        "id": "LIis9oTZAfs3"
      },
      "outputs": [
        {
          "name": "stdout",
          "output_type": "stream",
          "text": [
            "Graph(G=[], edge_index=[2, 82], edge_label_index=[2, 82], graph_label=[1], node_feature=[39, 35], node_label_index=[39], task=[])\n",
            "Graph with index 100 has label 0\n"
          ]
        }
      ],
      "source": [
        "def get_graph_class(dataset, idx):\n",
        "  # TODO: Implement this function that takes a deepsnap dataset object,\n",
        "  # the index of the graph in the dataset, and returns the class/label \n",
        "  # of the graph (in integer).\n",
        "\n",
        "  label = dataset[idx].graph_label.item()\n",
        "  return label\n",
        "\n",
        "graph_0 = dataset[0]\n",
        "print(graph_0)\n",
        "idx = 100\n",
        "label = get_graph_class(dataset, idx)\n",
        "print(f'Graph with index {idx} has label {label}')"
      ]
    },
    {
      "cell_type": "markdown",
      "metadata": {
        "id": "fKhcVeAhCwoY"
      },
      "source": [
        "### 问题2.3：在COX2数据集索引为200的图中，一共有多少边？"
      ]
    },
    {
      "cell_type": "code",
      "execution_count": 15,
      "metadata": {
        "id": "f5m2DOfhBtWv"
      },
      "outputs": [
        {
          "name": "stdout",
          "output_type": "stream",
          "text": [
            "Graph with index 200 has 49 edges\n"
          ]
        }
      ],
      "source": [
        "def get_graph_num_edges(dataset, idx):\n",
        "  # TODO: Implement this function that takes a deepsnap dataset object,\n",
        "  # the index of the graph in dataset, and returns the number of \n",
        "  # edges in the graph (in integer).\n",
        "\n",
        "  num_edges = dataset[idx].num_edges\n",
        "  return num_edges\n",
        "\n",
        "idx = 200\n",
        "num_edges = get_graph_num_edges(dataset, idx)\n",
        "print(f'Graph with index {idx} has {num_edges} edges')"
      ]
    },
    {
      "cell_type": "markdown",
      "metadata": {
        "id": "AXa7yIG4E0Fp"
      },
      "source": [
        "## 3 DeepSNAP 进阶\n",
        "\n",
        "我们已经学习了 DeepSNAP 的图和数据集的基本用法！\n",
        "\n",
        "现在继续来学习一些高阶功能。\n",
        "\n",
        "本小节我们会使用 DeepSNAP 进行特征计算和归纳式/直推式分割数据集。"
      ]
    },
    {
      "cell_type": "markdown",
      "metadata": {
        "id": "Y5fsGBLY8cxa"
      },
      "source": [
        "### 配置"
      ]
    },
    {
      "cell_type": "code",
      "execution_count": 16,
      "metadata": {
        "id": "g-jgRLiQ8cSj"
      },
      "outputs": [],
      "source": [
        "import torch\n",
        "import networkx as nx\n",
        "import matplotlib.pyplot as plt\n",
        "\n",
        "from deepsnap.graph import Graph\n",
        "from deepsnap.batch import Batch\n",
        "from deepsnap.dataset import GraphDataset\n",
        "from torch_geometric.datasets import Planetoid, TUDataset\n",
        "\n",
        "from torch.utils.data import DataLoader"
      ]
    },
    {
      "cell_type": "markdown",
      "metadata": {
        "id": "HnazPGGAJAZN"
      },
      "source": [
        "### 图的数据分割\n",
        "\n",
        "图的数据分割可比 CV 和 NLP 难得多。总体来说，图的数据分割有两种，**归纳式**和**直推式**。"
      ]
    },
    {
      "cell_type": "markdown",
      "metadata": {
        "id": "l9KG_MhqsWBp"
      },
      "source": [
        "### 归纳式分割\n",
        "\n",
        "正如 Lecture 中讲得，归纳式分割会将多个图分配到训练集、验证集以及测试集中。\n",
        "\n",
        "下面是一个例子，是 DeepSNAP 在**图级任务**（图分类等）中进行归纳式分割。"
      ]
    },
    {
      "cell_type": "code",
      "execution_count": 17,
      "metadata": {
        "id": "Gpc6bTm3GF02"
      },
      "outputs": [
        {
          "name": "stdout",
          "output_type": "stream",
          "text": [
            "COX2 train dataset: GraphDataset(373)\n",
            "COX2 validation dataset: GraphDataset(46)\n",
            "COX2 test dataset: GraphDataset(48)\n"
          ]
        }
      ],
      "source": [
        "root = './dataset'\n",
        "name = 'COX2'\n",
        "\n",
        "pyg_dataset = TUDataset(root, name)\n",
        "\n",
        "graphs = GraphDataset.pyg_to_graphs(pyg_dataset)\n",
        "\n",
        "# Here we specify the task as graph-level task such as graph classification\n",
        "task = 'graph'\n",
        "dataset = GraphDataset(graphs, task=task)\n",
        "\n",
        "# Specify transductive=False (inductive)\n",
        "dataset_train, dataset_val, dataset_test = dataset.split(transductive=False, split_ratio=[0.8, 0.1, 0.1])\n",
        "\n",
        "print(f\"COX2 train dataset: {dataset_train}\")\n",
        "print(f\"COX2 validation dataset: {dataset_val}\")\n",
        "print(f\"COX2 test dataset: {dataset_test}\")"
      ]
    },
    {
      "cell_type": "markdown",
      "metadata": {
        "id": "yWKQwa4WsgQp"
      },
      "source": [
        "### 直推式分割\n",
        "\n",
        "在直推式分割中，训练集、验证集、测试集都是在一张图上。\n",
        "\n",
        "这里我们在**结点级**任务中直推式地将 CORA 图分割。\n",
        "\n",
        "> 注意在 DeepSNAP 中，默认是随机分割，但你也可以通过在从 `PyG` 中加载数据集时，指定 `fixed_split=True` 来进行固定分割，也可以直接改变 `node_label_index`。"
      ]
    },
    {
      "cell_type": "code",
      "execution_count": 18,
      "metadata": {
        "id": "b5OdxSg4sfyR"
      },
      "outputs": [
        {
          "name": "stdout",
          "output_type": "stream",
          "text": [
            "Cora train dataset: GraphDataset(1)\n",
            "Cora validation dataset: GraphDataset(1)\n",
            "Cora test dataset: GraphDataset(1)\n",
            "Original Cora has 2708 nodes\n",
            "After the split, Cora has 2166 training nodes\n",
            "After the split, Cora has 270 validation nodes\n",
            "After the split, Cora has 272 test nodes\n"
          ]
        }
      ],
      "source": [
        "root = './dataset'\n",
        "name = 'Cora'\n",
        "\n",
        "pyg_dataset = Planetoid(root, name)\n",
        "\n",
        "graphs = GraphDataset.pyg_to_graphs(pyg_dataset)\n",
        "\n",
        "# Here we specify the task as node-level task such as node classification\n",
        "task = 'node'\n",
        "\n",
        "dataset = GraphDataset(graphs, task=task)\n",
        "\n",
        "# Specify we want the transductive splitting\n",
        "dataset_train, dataset_val, dataset_test = dataset.split(transductive=True, split_ratio=[0.8, 0.1, 0.1])\n",
        "\n",
        "print(f\"Cora train dataset: {dataset_train}\")\n",
        "print(f\"Cora validation dataset: {dataset_val}\")\n",
        "print(f\"Cora test dataset: {dataset_test}\")\n",
        "\n",
        "print(f\"Original Cora has {dataset.num_nodes[0]} nodes\")\n",
        "\n",
        "# The nodes in each set can be find in node_label_index\n",
        "print(f\"After the split, Cora has {dataset_train[0].node_label_index.shape[0]} training nodes\")\n",
        "print(f\"After the split, Cora has {dataset_val[0].node_label_index.shape[0]} validation nodes\")\n",
        "print(f\"After the split, Cora has {dataset_test[0].node_label_index.shape[0]} test nodes\")"
      ]
    },
    {
      "cell_type": "markdown",
      "metadata": {
        "id": "d7ePKgM00lGE"
      },
      "source": [
        "### 边级分割\n",
        "\n",
        "与**结点级**和**图级**分割相比，**边级**分割有些麻烦。\n",
        "\n",
        "通常在**边级**分割中，我们需要采样一些负边，将正边分配到不同数据集中，把训练边分为消息传递边和监督边，然后在训练的时候重新采样负边。\n",
        "\n",
        "本小节将介绍`all`模式和`disjoint`模式，如果你对更多图分割的模式感兴趣，可以参考 DeepSNAP 数据集[文档](https://snap.stanford.edu/deepsnap/modules/dataset.html)。"
      ]
    },
    {
      "cell_type": "markdown",
      "metadata": {
        "id": "SnzISX5RoiR6"
      },
      "source": [
        "#### `all` 模式\n",
        "\n",
        "现在让我们从一个简单的**边级**分割模式开始，即 DeepSNAP 中的 `edge_train_mode=\"all\"`。"
      ]
    },
    {
      "cell_type": "code",
      "execution_count": 19,
      "metadata": {
        "id": "_D104xO6137n"
      },
      "outputs": [
        {
          "name": "stdout",
          "output_type": "stream",
          "text": [
            "Cora train dataset: GraphDataset(1)\n",
            "Cora validation dataset: GraphDataset(1)\n",
            "Cora test dataset: GraphDataset(1)\n"
          ]
        }
      ],
      "source": [
        "root = './dataset'\n",
        "name = 'Cora'\n",
        "\n",
        "pyg_dataset = Planetoid(root, name)\n",
        "\n",
        "graphs = GraphDataset.pyg_to_graphs(pyg_dataset)\n",
        "\n",
        "# Specify task as link_pred for edge-level task\n",
        "task = 'link_pred'\n",
        "\n",
        "# Specify the train mode, \"all\" mode is default for deepsnap dataset\n",
        "edge_train_mode = \"all\"\n",
        "\n",
        "dataset = GraphDataset(graphs, task=task, edge_train_mode=edge_train_mode)\n",
        "\n",
        "# Transductive link prediction split\n",
        "dataset_train, dataset_val, dataset_test = dataset.split(transductive=True, split_ratio=[0.8, 0.1, 0.1])\n",
        "\n",
        "print(f\"Cora train dataset: {dataset_train}\")\n",
        "print(f\"Cora validation dataset: {dataset_val}\")\n",
        "print(f\"Cora test dataset: {dataset_test}\")"
      ]
    },
    {
      "cell_type": "markdown",
      "metadata": {
        "id": "GscopwOXC_Y7"
      },
      "source": [
        "在 DeepSNAP 中，监督边的索引都存储在 `edge_label_index` 张量中，对应的标签存放在 `edge_label` 张量中。"
      ]
    },
    {
      "cell_type": "code",
      "execution_count": 20,
      "metadata": {
        "id": "XJF8fZnA2eLR"
      },
      "outputs": [
        {
          "name": "stdout",
          "output_type": "stream",
          "text": [
            "Original Cora graph has 5278 edges\n",
            "Because Cora graph is undirected, the original edge_index has shape torch.Size([2, 10556])\n",
            "The training set has message passing edge index shape torch.Size([2, 8444])\n",
            "The training set has supervision edge index shape torch.Size([2, 16888])\n",
            "The validation set has message passing edge index shape torch.Size([2, 8444])\n",
            "The validation set has supervision edge index shape torch.Size([2, 2108])\n",
            "The test set has message passing edge index shape torch.Size([2, 9498])\n",
            "The test set has supervision edge index shape torch.Size([2, 2116])\n"
          ]
        }
      ],
      "source": [
        "print(f\"Original Cora graph has {dataset[0].num_edges} edges\")\n",
        "print(f\"Because Cora graph is undirected, the original edge_index has shape {dataset[0].edge_index.shape}\")\n",
        "\n",
        "print(f\"The training set has message passing edge index shape {dataset_train[0].edge_index.shape}\")\n",
        "print(f\"The training set has supervision edge index shape {dataset_train[0].edge_label_index.shape}\")\n",
        "\n",
        "print(f\"The validation set has message passing edge index shape {dataset_val[0].edge_index.shape}\")\n",
        "print(f\"The validation set has supervision edge index shape {dataset_val[0].edge_label_index.shape}\")\n",
        "\n",
        "print(f\"The test set has message passing edge index shape {dataset_test[0].edge_index.shape}\")\n",
        "print(f\"The test set has supervision edge index shape {dataset_test[0].edge_label_index.shape}\")"
      ]
    },
    {
      "cell_type": "markdown",
      "metadata": {
        "id": "s6BX-I_oEKQX"
      },
      "source": [
        "我们可以看到在 `all` 模式下，训练集和验证集的消息传递边 `edge_index` 完全一样。除此之外，在训练集中，正监督边（`edge_label_index`）也和消息传递边一样。但是，在测试集中，消息传递边是训练集和验证集的并集。\n",
        "\n",
        "注意 `edge_label` 和 `edge_label_index` 都有负边（默认情况下，有多少正边就有多少负边）。\n",
        "\n",
        "现在，让我们实现个函数来看看两个存储着边索引的张量是否不相交，再看看更多的边分割属性。"
      ]
    },
    {
      "cell_type": "markdown",
      "metadata": {
        "id": "YOZHDskbAKN6"
      },
      "source": [
        "#### 问题3.1-3.5：实现检查两个`edge_index`张量不相交的函数，然后回答后续的判断题。"
      ]
    },
    {
      "cell_type": "code",
      "execution_count": 21,
      "metadata": {
        "id": "wgRYdyPp8EmO"
      },
      "outputs": [],
      "source": [
        "def edge_indices_disjoint(edge_index_1: Tensor, edge_index_2: Tensor):\n",
        "  # TODO: Implement this function that takes two edge index tensors,\n",
        "  # and returns whether these two edge index tensors are disjoint.\n",
        "  edges_1 = {tuple(edge) for edge in edge_index_1.T.detach().cpu().numpy()}\n",
        "  edges_2 = {tuple(edge) for edge in edge_index_2.T.detach().cpu().numpy()}\n",
        "  return len(edges_1 & edges_2) == 0"
      ]
    },
    {
      "cell_type": "code",
      "execution_count": 22,
      "metadata": {
        "id": "EL4ASIDDEIUf"
      },
      "outputs": [
        {
          "name": "stdout",
          "output_type": "stream",
          "text": [
            "3.1 Training (supervision) positve and negative edges are disjoint =         True\n",
            "3.2 Validation (supervision) positve and negative edges are disjoint =         True\n",
            "3.3 Test (supervision) positve and negative edges are disjoint =         True\n",
            "3.4 Test (supervision) positve and validation (supervision) positve edges are disjoint =         True\n",
            "3.5 Validation (supervision) positve and training (supervision) positve edges are disjoint =         True\n"
          ]
        }
      ],
      "source": [
        "num_train_edges = dataset_train[0].edge_label_index.shape[1] // 2\n",
        "train_pos_edge_index = dataset_train[0].edge_label_index[:, :num_train_edges]\n",
        "train_neg_edge_index = dataset_train[0].edge_label_index[:, num_train_edges:]\n",
        "print(f\"3.1 Training (supervision) positve and negative edges are disjoint = \\\n",
        "        {edge_indices_disjoint(train_pos_edge_index, train_neg_edge_index)}\")\n",
        "\n",
        "num_val_edges = dataset_val[0].edge_label_index.shape[1] // 2\n",
        "val_pos_edge_index = dataset_val[0].edge_label_index[:, :num_val_edges]\n",
        "val_neg_edge_index = dataset_val[0].edge_label_index[:, num_val_edges:]\n",
        "print(f\"3.2 Validation (supervision) positve and negative edges are disjoint = \\\n",
        "        {edge_indices_disjoint(val_pos_edge_index, val_neg_edge_index)}\")\n",
        "\n",
        "num_test_edges = dataset_test[0].edge_label_index.shape[1] // 2\n",
        "test_pos_edge_index = dataset_test[0].edge_label_index[:, :num_test_edges]\n",
        "test_neg_edge_index = dataset_test[0].edge_label_index[:, num_test_edges:]\n",
        "print(f\"3.3 Test (supervision) positve and negative edges are disjoint = \\\n",
        "        {edge_indices_disjoint(test_pos_edge_index, test_neg_edge_index)}\")\n",
        "\n",
        "print(f\"3.4 Test (supervision) positve and validation (supervision) positve edges are disjoint = \\\n",
        "        {edge_indices_disjoint(test_pos_edge_index, val_pos_edge_index)}\")\n",
        "\n",
        "print(f\"3.5 Validation (supervision) positve and training (supervision) positve edges are disjoint = \\\n",
        "        {edge_indices_disjoint(val_pos_edge_index, train_pos_edge_index)}\")"
      ]
    },
    {
      "cell_type": "markdown",
      "metadata": {
        "id": "8jLoVN5ZBTuA"
      },
      "source": [
        "#### `Disjoint` 模式\n",
        "\n",
        "现在来看看一个相对来说更复杂的直推式边分割案例，即 DeepSNAP 中 `edge_train_mode=\"disjoint\"` 的模式，也是 Lecture 中讲的直推式链接预测分割。"
      ]
    },
    {
      "cell_type": "code",
      "execution_count": 23,
      "metadata": {
        "id": "3Rqzfb-0BTBm"
      },
      "outputs": [
        {
          "name": "stdout",
          "output_type": "stream",
          "text": [
            "The edge index of original graph has shape: torch.Size([2, 10556])\n",
            "The edge index of training message edges has shape: torch.Size([2, 6754])\n",
            "The edge index of training supervision edges has shape: torch.Size([2, 3380])\n",
            "The edge index of validation message edges has shape: torch.Size([2, 8444])\n",
            "The edge index of validation supervision edges has shape: torch.Size([2, 2108])\n",
            "The edge index of test message edges has shape: torch.Size([2, 9498])\n",
            "The edge index of test supervision edges has shape: torch.Size([2, 2116])\n"
          ]
        }
      ],
      "source": [
        "edge_train_mode = \"disjoint\"\n",
        "\n",
        "dataset = GraphDataset(graphs, task='link_pred', edge_train_mode=edge_train_mode)\n",
        "orig_edge_index = dataset[0].edge_index\n",
        "dataset_train, dataset_val, dataset_test = dataset.split(\n",
        "    transductive=True, split_ratio=[0.8, 0.1, 0.1])\n",
        "\n",
        "train_message_edge_index = dataset_train[0].edge_index\n",
        "train_sup_edge_index = dataset_train[0].edge_label_index\n",
        "val_sup_edge_index = dataset_val[0].edge_label_index\n",
        "test_sup_edge_index = dataset_test[0].edge_label_index\n",
        "\n",
        "print(f\"The edge index of original graph has shape: {orig_edge_index.shape}\")\n",
        "print(f\"The edge index of training message edges has shape: {train_message_edge_index.shape}\")\n",
        "print(f\"The edge index of training supervision edges has shape: {train_sup_edge_index.shape}\")\n",
        "print(f\"The edge index of validation message edges has shape: {dataset_val[0].edge_index.shape}\")\n",
        "print(f\"The edge index of validation supervision edges has shape: {val_sup_edge_index.shape}\")\n",
        "print(f\"The edge index of test message edges has shape: {dataset_test[0].edge_index.shape}\")\n",
        "print(f\"The edge index of test supervision edges has shape: {test_sup_edge_index.shape}\")"
      ]
    },
    {
      "cell_type": "markdown",
      "metadata": {
        "id": "TUkBhiJNciol"
      },
      "source": [
        "可以看到，在两种模式下，训练集与验证集的消息传递边以及训练监督边的分割情况是不一样的。"
      ]
    },
    {
      "cell_type": "markdown",
      "metadata": {
        "id": "2WKfRjqAJHtK"
      },
      "source": [
        "#### 重新负采样\n",
        "\n",
        "在训练阶段，每迭代一次，一般就要重新负采样一次。\n",
        "\n",
        "下面我们把两次训练迭代过程中的训练集和验证集中的负边打印出来。\n",
        "\n",
        "你应该能发现训练集中的负边被重新采样了。"
      ]
    },
    {
      "cell_type": "code",
      "execution_count": 24,
      "metadata": {
        "id": "AMEbnx63JHWj"
      },
      "outputs": [
        {
          "name": "stdout",
          "output_type": "stream",
          "text": [
            "First iteration training negative edges:\ttensor([[ 819, 2157, 1839,  ...,  902, 2192, 1460],\n",
            "        [1069, 2369,  665,  ...,  651,  550, 1049]])\n",
            "Second iteration training negative edges:\ttensor([[2191, 1598, 1195,  ...,  315, 2418,  632],\n",
            "        [1694,  310,  910,  ..., 1902, 2199, 1037]])\n",
            "First iteration validation negative edges:\ttensor([[1665, 2478,  356,  ...,  923, 1151, 2417],\n",
            "        [2571, 2675, 2600,  ..., 2614,  565, 1449]])\n",
            "Second iteration validation negative edges:\ttensor([[1665, 2478,  356,  ...,  923, 1151, 2417],\n",
            "        [2571, 2675, 2600,  ..., 2614,  565, 1449]])\n"
          ]
        }
      ],
      "source": [
        "dataset = GraphDataset(graphs, task='link_pred', edge_train_mode=\"disjoint\")\n",
        "datasets = {}\n",
        "follow_batch = []\n",
        "datasets['train'], datasets['val'], datasets['test'] = dataset.split(\n",
        "    transductive=True, split_ratio=[0.8, 0.1, 0.1])\n",
        "dataloaders = {\n",
        "  split: DataLoader(\n",
        "    ds, collate_fn=Batch.collate(follow_batch),\n",
        "    batch_size=1, shuffle=(split=='train')\n",
        "  )\n",
        "  for split, ds in datasets.items()\n",
        "}\n",
        "neg_edges_1 = None\n",
        "for batch in dataloaders['train']:\n",
        "  num_edges = batch.edge_label_index.shape[1] // 2\n",
        "  neg_edges_1 = batch.edge_label_index[:, num_edges:]\n",
        "  print(f\"First iteration training negative edges:\\t{neg_edges_1}\")\n",
        "  break\n",
        "neg_edges_2 = None\n",
        "for batch in dataloaders['train']:\n",
        "  num_edges = batch.edge_label_index.shape[1] // 2\n",
        "  neg_edges_2 = batch.edge_label_index[:, num_edges:]\n",
        "  print(f\"Second iteration training negative edges:\\t{neg_edges_2}\")\n",
        "  break\n",
        "\n",
        "neg_edges_1 = None\n",
        "for batch in dataloaders['val']:\n",
        "  num_edges = batch.edge_label_index.shape[1] // 2\n",
        "  neg_edges_1 = batch.edge_label_index[:, num_edges:]\n",
        "  print(f\"First iteration validation negative edges:\\t{neg_edges_1}\")\n",
        "  break\n",
        "neg_edges_2 = None\n",
        "for batch in dataloaders['val']:\n",
        "  num_edges = batch.edge_label_index.shape[1] // 2\n",
        "  neg_edges_2 = batch.edge_label_index[:, num_edges:]\n",
        "  print(f\"Second iteration validation negative edges:\\t{neg_edges_2}\")\n",
        "  break"
      ]
    },
    {
      "cell_type": "markdown",
      "metadata": {
        "id": "XkrYyeSUI_9_"
      },
      "source": [
        "### 图转化 / 特征计算\n",
        "\n",
        "DeepSNAP 另一个核心功能就是图转化 / 特征计算。\n",
        "\n",
        "在 DeepSNAP中，我们将图转化 / 特征计算分成两种类型。一种是在训练前对整个数据集（`deepsnap.dataset`）进行转化，另一种是在训练时分批（`deepsnap.batch`）转化。\n",
        "\n",
        "下面就是一个使用 NetworkX 作为后端来计算 PageRank 值并在训练前对张量进行更新的例子，即训练前对整个数据集转化。"
      ]
    },
    {
      "cell_type": "code",
      "execution_count": 25,
      "metadata": {
        "id": "gnAVbZINLZ4I"
      },
      "outputs": [
        {
          "name": "stdout",
          "output_type": "stream",
          "text": [
            "Number of features before transformation: 35\n",
            "Number of features after transformation: 36\n"
          ]
        }
      ],
      "source": [
        "def pagerank_transform_fn(graph):\n",
        "\n",
        "  # Get the referenced networkx graph\n",
        "  G = graph.G\n",
        "\n",
        "  # Calculate the pagerank by using networkx\n",
        "  pr = nx.pagerank(G)\n",
        "\n",
        "  # Transform the pagerank values to tensor\n",
        "  pr_feature = torch.tensor([pr[node] for node in range(graph.num_nodes)], dtype=torch.float32)\n",
        "  pr_feature = pr_feature.view(graph.num_nodes, 1)\n",
        "\n",
        "  # Concat the pagerank values to the node feature\n",
        "  graph.node_feature = torch.cat([graph.node_feature, pr_feature], dim=-1)\n",
        "\n",
        "root = './dataset'\n",
        "name = 'COX2'\n",
        "pyg_dataset = TUDataset(root, name)\n",
        "graphs = GraphDataset.pyg_to_graphs(pyg_dataset)\n",
        "dataset = GraphDataset(graphs, task='graph')\n",
        "print(f\"Number of features before transformation: {dataset.num_node_features}\")\n",
        "dataset.apply_transform(pagerank_transform_fn, update_tensor=False)\n",
        "print(f\"Number of features after transformation: {dataset.num_node_features}\")"
      ]
    },
    {
      "cell_type": "markdown",
      "metadata": {
        "id": "LHByE87SQkUw"
      },
      "source": [
        "### 问题3.6：实现下面的转化并报告在COX2数据集图中（索引为406），结点（索引为3）的聚合系数是多少，小数点后取两位。"
      ]
    },
    {
      "cell_type": "code",
      "execution_count": 26,
      "metadata": {
        "id": "RNEjfOZRNjYb"
      },
      "outputs": [
        {
          "name": "stdout",
          "output_type": "stream",
          "text": [
            "The node has clustering coefficient: 0.17\n"
          ]
        }
      ],
      "source": [
        "def cluster_transform_fn(graph):\n",
        "  # TODO: Implement this function that takes an deepsnap graph object,\n",
        "  # transform the graph by adding nodes clustering coefficient into the \n",
        "  # graph.node_feature\n",
        "  clustering = nx.clustering(graph.G)\n",
        "  clustering = torch.tensor([clustering[i] for i in range(graph.num_nodes)], dtype=torch.float32).view(-1, 1)\n",
        "  graph.node_feature = torch.concat([graph.node_feature, clustering], dim=-1)\n",
        "\n",
        "root = './dataset'\n",
        "name = 'COX2'\n",
        "pyg_dataset = TUDataset(root, name)\n",
        "graphs = GraphDataset.pyg_to_graphs(pyg_dataset)\n",
        "dataset = GraphDataset(graphs, task='graph')\n",
        "\n",
        "# Transform the dataset\n",
        "dataset.apply_transform(cluster_transform_fn, update_tensor=False)\n",
        "\n",
        "node_idx = 3\n",
        "graph_idx = 406\n",
        "node_feature = dataset[graph_idx].node_feature\n",
        "\n",
        "print(f\"The node has clustering coefficient: {round(node_feature[node_idx][-1].item(), 2)}\")"
      ]
    },
    {
      "cell_type": "markdown",
      "metadata": {
        "id": "4P5Ig7XaPYzp"
      },
      "source": [
        "除了能变化整个数据集，DeepSNAP 还可以在训练的时候进行批量（一般指`deepsnap.batch.Batch`）变化。\n",
        "\n",
        "除此之外，DeepSNAP 还支持引用的图和其张量表征之间的变化同步。举个例子，你可以只在变化函数中修改 `NetworkX` 中的图对象，然后通过指定 `update_tensor=True`，该图对应的张量表征也会自动被修改。\n",
        "\n",
        "更多信息请参考 DeepSNAP [文档](https://snap.stanford.edu/deepsnap/)。"
      ]
    },
    {
      "cell_type": "markdown",
      "metadata": {
        "id": "s-YLYMLFQYqp"
      },
      "source": [
        "## 4 边级预测\n",
        "\n",
        "在上一节中，我们知道了 DeepSNAP 如何在链接预测的任务中直推式地分割边。\n",
        "\n",
        "现在让我们使用 DeepSNAP 和 PyG 来实现**边级**预测，即链接预测模型。"
      ]
    },
    {
      "cell_type": "code",
      "execution_count": 27,
      "metadata": {
        "id": "hrKCNtvERypQ"
      },
      "outputs": [],
      "source": [
        "import copy\n",
        "import torch\n",
        "import numpy as np\n",
        "import networkx as nx\n",
        "import matplotlib.pyplot as plt\n",
        "\n",
        "from deepsnap.graph import Graph\n",
        "from deepsnap.batch import Batch\n",
        "from deepsnap.dataset import GraphDataset\n",
        "from torch_geometric.datasets import Planetoid, TUDataset\n",
        "\n",
        "from torch.utils.data import DataLoader\n",
        "\n",
        "import torch.nn.functional as F\n",
        "from torch_geometric.nn import SAGEConv\n",
        "\n",
        "class LinkPredModel(torch.nn.Module):\n",
        "    def __init__(self, input_dim, hidden_dim, num_classes, dropout=0.2):\n",
        "        super(LinkPredModel, self).__init__()\n",
        "\n",
        "        self.conv1 = SAGEConv(input_dim, hidden_dim)\n",
        "        self.conv2 = SAGEConv(hidden_dim, num_classes)\n",
        "\n",
        "        self.loss_fn = nn.BCEWithLogitsLoss()\n",
        "        self.dropout = dropout\n",
        "\n",
        "    def reset_parameters(self):\n",
        "        self.conv1.reset_parameters()\n",
        "        self.conv2.reset_parameters()\n",
        "\n",
        "    def forward(self, batch):\n",
        "        node_feature, edge_index, edge_label_index = batch.node_feature, batch.edge_index, batch.edge_label_index\n",
        "\n",
        "        # 1. Feed the node feature into the first conv layer\n",
        "        node_feature = self.conv1(node_feature, edge_index)\n",
        "        # 2. Add a ReLU after the first conv layer\n",
        "        node_feature = F.relu(node_feature)\n",
        "        # 3. Add dropout after the ReLU (with probability self.dropout)\n",
        "        node_feature = F.dropout(node_feature, self.dropout, training=self.training)\n",
        "        # 4. Feed the output to the second conv layer\n",
        "        node_feature = self.conv2(node_feature, edge_index)\n",
        "        # 5. select source and target node using edge_label_index, and calculate similarity by dot product\n",
        "        source, target = node_feature[edge_label_index[0]], node_feature[edge_label_index[1]]\n",
        "        return (source * target).sum(dim=-1)\n",
        "    \n",
        "    def loss(self, pred, link_label):\n",
        "        return self.loss_fn(pred, link_label)"
      ]
    },
    {
      "cell_type": "code",
      "execution_count": 28,
      "metadata": {
        "id": "uuKbGFOu1Ka8"
      },
      "outputs": [],
      "source": [
        "from sklearn.metrics import *\n",
        "\n",
        "def train(model, dataloaders, optimizer, args):\n",
        "    val_max = 0\n",
        "    best_model = model\n",
        "\n",
        "    for epoch in range(1, args[\"epochs\"]):\n",
        "        for batch in dataloaders['train']:\n",
        "            \n",
        "            batch.to(args[\"device\"])\n",
        "\n",
        "            optimizer.zero_grad()\n",
        "            pred_y = model(batch)\n",
        "            loss = model.loss(pred_y, batch.edge_label.type(torch.float32))\n",
        "            loss.backward()\n",
        "            optimizer.step()\n",
        "\n",
        "            score_train = test(model, dataloaders['train'], args)\n",
        "            score_val = test(model, dataloaders['val'], args)\n",
        "            score_test = test(model, dataloaders['test'], args)\n",
        "            print(f\"Epoch: {epoch:03d}, Train: {score_train:.4f}, Val: {score_val:.4f}, Test: {score_test:.4f}, Loss: {loss.item()}\")\n",
        "\n",
        "            if val_max < score_val:\n",
        "                val_max = score_val\n",
        "                best_model = copy.deepcopy(model)\n",
        "    return best_model\n",
        "\n",
        "def test(model, dataloader, args):\n",
        "    model.eval()\n",
        "\n",
        "    score = 0\n",
        "    for batch in dataloader:\n",
        "        batch.to(args[\"device\"])\n",
        "        pred_y = torch.sigmoid(model(batch))\n",
        "        score += roc_auc_score(batch.edge_label.cpu().detach(), pred_y.cpu().detach())\n",
        "    score /= len(dataloader)\n",
        "    return score"
      ]
    },
    {
      "cell_type": "code",
      "execution_count": 29,
      "metadata": {
        "id": "JTKWYX1b33V3"
      },
      "outputs": [],
      "source": [
        "# Please don't change any parameters\n",
        "args = {\n",
        "    \"device\" : 'cuda' if torch.cuda.is_available() else 'cpu',\n",
        "    \"hidden_dim\" : 128,\n",
        "    \"epochs\" : 200,\n",
        "}"
      ]
    },
    {
      "cell_type": "code",
      "execution_count": 30,
      "metadata": {
        "id": "Klw_xYnE27xQ"
      },
      "outputs": [
        {
          "name": "stdout",
          "output_type": "stream",
          "text": [
            "Epoch: 001, Train: 0.5162, Val: 0.5138, Test: 0.4909, Loss: 0.6931764483451843\n",
            "Epoch: 002, Train: 0.4938, Val: 0.5145, Test: 0.4915, Loss: 0.6931341290473938\n",
            "Epoch: 003, Train: 0.5013, Val: 0.5154, Test: 0.4922, Loss: 0.6930963397026062\n",
            "Epoch: 004, Train: 0.4891, Val: 0.5162, Test: 0.4933, Loss: 0.693098783493042\n",
            "Epoch: 005, Train: 0.5177, Val: 0.5177, Test: 0.4945, Loss: 0.6930646300315857\n",
            "Epoch: 006, Train: 0.5179, Val: 0.5187, Test: 0.4958, Loss: 0.6931133270263672\n",
            "Epoch: 007, Train: 0.5112, Val: 0.5203, Test: 0.4974, Loss: 0.6931238174438477\n",
            "Epoch: 008, Train: 0.5174, Val: 0.5218, Test: 0.4992, Loss: 0.6931315064430237\n",
            "Epoch: 009, Train: 0.5240, Val: 0.5237, Test: 0.5010, Loss: 0.6931145787239075\n",
            "Epoch: 010, Train: 0.5208, Val: 0.5254, Test: 0.5029, Loss: 0.6930732727050781\n",
            "Epoch: 011, Train: 0.5334, Val: 0.5270, Test: 0.5051, Loss: 0.6930665969848633\n",
            "Epoch: 012, Train: 0.5195, Val: 0.5288, Test: 0.5069, Loss: 0.6930192708969116\n",
            "Epoch: 013, Train: 0.5360, Val: 0.5309, Test: 0.5088, Loss: 0.6930641531944275\n",
            "Epoch: 014, Train: 0.5337, Val: 0.5327, Test: 0.5106, Loss: 0.6930230259895325\n",
            "Epoch: 015, Train: 0.5372, Val: 0.5345, Test: 0.5125, Loss: 0.6930209398269653\n",
            "Epoch: 016, Train: 0.5359, Val: 0.5365, Test: 0.5144, Loss: 0.6930506825447083\n",
            "Epoch: 017, Train: 0.5410, Val: 0.5382, Test: 0.5163, Loss: 0.6930199861526489\n",
            "Epoch: 018, Train: 0.5500, Val: 0.5402, Test: 0.5182, Loss: 0.69298255443573\n",
            "Epoch: 019, Train: 0.5482, Val: 0.5423, Test: 0.5202, Loss: 0.692990243434906\n",
            "Epoch: 020, Train: 0.5566, Val: 0.5441, Test: 0.5219, Loss: 0.692970871925354\n",
            "Epoch: 021, Train: 0.5591, Val: 0.5463, Test: 0.5236, Loss: 0.6929373741149902\n",
            "Epoch: 022, Train: 0.5546, Val: 0.5482, Test: 0.5253, Loss: 0.6929965615272522\n",
            "Epoch: 023, Train: 0.5609, Val: 0.5495, Test: 0.5270, Loss: 0.692906379699707\n",
            "Epoch: 024, Train: 0.5680, Val: 0.5511, Test: 0.5284, Loss: 0.6929466724395752\n",
            "Epoch: 025, Train: 0.5732, Val: 0.5527, Test: 0.5299, Loss: 0.69290691614151\n",
            "Epoch: 026, Train: 0.5665, Val: 0.5541, Test: 0.5311, Loss: 0.6929333806037903\n",
            "Epoch: 027, Train: 0.5858, Val: 0.5553, Test: 0.5322, Loss: 0.6928960084915161\n",
            "Epoch: 028, Train: 0.5902, Val: 0.5567, Test: 0.5333, Loss: 0.692876935005188\n",
            "Epoch: 029, Train: 0.5870, Val: 0.5581, Test: 0.5343, Loss: 0.6928708553314209\n",
            "Epoch: 030, Train: 0.5912, Val: 0.5594, Test: 0.5353, Loss: 0.6928428411483765\n",
            "Epoch: 031, Train: 0.5909, Val: 0.5605, Test: 0.5362, Loss: 0.6928383111953735\n",
            "Epoch: 032, Train: 0.5869, Val: 0.5619, Test: 0.5368, Loss: 0.6928054690361023\n",
            "Epoch: 033, Train: 0.5899, Val: 0.5634, Test: 0.5376, Loss: 0.6927575469017029\n",
            "Epoch: 034, Train: 0.5861, Val: 0.5641, Test: 0.5383, Loss: 0.6927472352981567\n",
            "Epoch: 035, Train: 0.5955, Val: 0.5651, Test: 0.5390, Loss: 0.6927324533462524\n",
            "Epoch: 036, Train: 0.6000, Val: 0.5663, Test: 0.5396, Loss: 0.6926918029785156\n",
            "Epoch: 037, Train: 0.6070, Val: 0.5675, Test: 0.5403, Loss: 0.6926746964454651\n",
            "Epoch: 038, Train: 0.6155, Val: 0.5685, Test: 0.5409, Loss: 0.6926516890525818\n",
            "Epoch: 039, Train: 0.6062, Val: 0.5696, Test: 0.5414, Loss: 0.6925415992736816\n",
            "Epoch: 040, Train: 0.6149, Val: 0.5707, Test: 0.5418, Loss: 0.6925879716873169\n",
            "Epoch: 041, Train: 0.6227, Val: 0.5720, Test: 0.5423, Loss: 0.6925015449523926\n",
            "Epoch: 042, Train: 0.6068, Val: 0.5728, Test: 0.5429, Loss: 0.6925011873245239\n",
            "Epoch: 043, Train: 0.6151, Val: 0.5741, Test: 0.5433, Loss: 0.6923831105232239\n",
            "Epoch: 044, Train: 0.6161, Val: 0.5750, Test: 0.5438, Loss: 0.6923501491546631\n",
            "Epoch: 045, Train: 0.6145, Val: 0.5762, Test: 0.5446, Loss: 0.6923472881317139\n",
            "Epoch: 046, Train: 0.6231, Val: 0.5770, Test: 0.5451, Loss: 0.6922260522842407\n",
            "Epoch: 047, Train: 0.6237, Val: 0.5781, Test: 0.5455, Loss: 0.692268967628479\n",
            "Epoch: 048, Train: 0.6292, Val: 0.5789, Test: 0.5462, Loss: 0.6921014189720154\n",
            "Epoch: 049, Train: 0.6189, Val: 0.5798, Test: 0.5468, Loss: 0.6921228766441345\n",
            "Epoch: 050, Train: 0.6280, Val: 0.5802, Test: 0.5473, Loss: 0.6920247673988342\n",
            "Epoch: 051, Train: 0.6385, Val: 0.5807, Test: 0.5480, Loss: 0.6919844150543213\n",
            "Epoch: 052, Train: 0.6298, Val: 0.5812, Test: 0.5485, Loss: 0.6918801665306091\n",
            "Epoch: 053, Train: 0.6297, Val: 0.5821, Test: 0.5491, Loss: 0.6917494535446167\n",
            "Epoch: 054, Train: 0.6390, Val: 0.5830, Test: 0.5496, Loss: 0.6915876865386963\n",
            "Epoch: 055, Train: 0.6338, Val: 0.5838, Test: 0.5499, Loss: 0.691460371017456\n",
            "Epoch: 056, Train: 0.6279, Val: 0.5846, Test: 0.5505, Loss: 0.6913965940475464\n",
            "Epoch: 057, Train: 0.6342, Val: 0.5856, Test: 0.5511, Loss: 0.6913092732429504\n",
            "Epoch: 058, Train: 0.6431, Val: 0.5864, Test: 0.5516, Loss: 0.6911078691482544\n",
            "Epoch: 059, Train: 0.6448, Val: 0.5866, Test: 0.5521, Loss: 0.6910859942436218\n",
            "Epoch: 060, Train: 0.6547, Val: 0.5873, Test: 0.5527, Loss: 0.6910545825958252\n",
            "Epoch: 061, Train: 0.6426, Val: 0.5878, Test: 0.5531, Loss: 0.6909862756729126\n",
            "Epoch: 062, Train: 0.6432, Val: 0.5882, Test: 0.5538, Loss: 0.6908515095710754\n",
            "Epoch: 063, Train: 0.6413, Val: 0.5889, Test: 0.5545, Loss: 0.6904555559158325\n",
            "Epoch: 064, Train: 0.6386, Val: 0.5894, Test: 0.5554, Loss: 0.6902241706848145\n",
            "Epoch: 065, Train: 0.6486, Val: 0.5901, Test: 0.5563, Loss: 0.6901487112045288\n",
            "Epoch: 066, Train: 0.6478, Val: 0.5905, Test: 0.5573, Loss: 0.689741849899292\n",
            "Epoch: 067, Train: 0.6480, Val: 0.5913, Test: 0.5582, Loss: 0.6896313428878784\n",
            "Epoch: 068, Train: 0.6431, Val: 0.5919, Test: 0.5590, Loss: 0.6895643472671509\n",
            "Epoch: 069, Train: 0.6458, Val: 0.5924, Test: 0.5600, Loss: 0.6889941096305847\n",
            "Epoch: 070, Train: 0.6372, Val: 0.5931, Test: 0.5610, Loss: 0.6891850233078003\n",
            "Epoch: 071, Train: 0.6380, Val: 0.5932, Test: 0.5619, Loss: 0.6885577440261841\n",
            "Epoch: 072, Train: 0.6511, Val: 0.5937, Test: 0.5631, Loss: 0.6883856654167175\n",
            "Epoch: 073, Train: 0.6487, Val: 0.5941, Test: 0.5640, Loss: 0.6877755522727966\n",
            "Epoch: 074, Train: 0.6435, Val: 0.5939, Test: 0.5648, Loss: 0.6874238848686218\n",
            "Epoch: 075, Train: 0.6472, Val: 0.5942, Test: 0.5660, Loss: 0.6876521110534668\n",
            "Epoch: 076, Train: 0.6596, Val: 0.5944, Test: 0.5671, Loss: 0.6867673397064209\n",
            "Epoch: 077, Train: 0.6437, Val: 0.5948, Test: 0.5681, Loss: 0.6870788931846619\n",
            "Epoch: 078, Train: 0.6549, Val: 0.5949, Test: 0.5693, Loss: 0.6866664886474609\n",
            "Epoch: 079, Train: 0.6475, Val: 0.5946, Test: 0.5707, Loss: 0.6859919428825378\n",
            "Epoch: 080, Train: 0.6525, Val: 0.5949, Test: 0.5719, Loss: 0.685024082660675\n",
            "Epoch: 081, Train: 0.6556, Val: 0.5950, Test: 0.5732, Loss: 0.6853709816932678\n",
            "Epoch: 082, Train: 0.6390, Val: 0.5958, Test: 0.5744, Loss: 0.683967649936676\n",
            "Epoch: 083, Train: 0.6540, Val: 0.5965, Test: 0.5757, Loss: 0.6841776967048645\n",
            "Epoch: 084, Train: 0.6555, Val: 0.5966, Test: 0.5770, Loss: 0.6830673813819885\n",
            "Epoch: 085, Train: 0.6623, Val: 0.5974, Test: 0.5785, Loss: 0.6825617551803589\n",
            "Epoch: 086, Train: 0.6549, Val: 0.5978, Test: 0.5795, Loss: 0.6813168525695801\n",
            "Epoch: 087, Train: 0.6509, Val: 0.5979, Test: 0.5805, Loss: 0.6801830530166626\n",
            "Epoch: 088, Train: 0.6691, Val: 0.5983, Test: 0.5819, Loss: 0.680830717086792\n",
            "Epoch: 089, Train: 0.6567, Val: 0.5988, Test: 0.5834, Loss: 0.6789787411689758\n",
            "Epoch: 090, Train: 0.6651, Val: 0.5994, Test: 0.5848, Loss: 0.6786366701126099\n",
            "Epoch: 091, Train: 0.6621, Val: 0.6000, Test: 0.5866, Loss: 0.677761971950531\n",
            "Epoch: 092, Train: 0.6625, Val: 0.6010, Test: 0.5884, Loss: 0.6774647235870361\n",
            "Epoch: 093, Train: 0.6591, Val: 0.6016, Test: 0.5905, Loss: 0.6753543019294739\n",
            "Epoch: 094, Train: 0.6721, Val: 0.6024, Test: 0.5929, Loss: 0.6740624308586121\n",
            "Epoch: 095, Train: 0.6681, Val: 0.6035, Test: 0.5953, Loss: 0.6724995970726013\n",
            "Epoch: 096, Train: 0.6641, Val: 0.6049, Test: 0.5980, Loss: 0.6706448197364807\n",
            "Epoch: 097, Train: 0.6764, Val: 0.6066, Test: 0.6013, Loss: 0.671678364276886\n",
            "Epoch: 098, Train: 0.6865, Val: 0.6086, Test: 0.6049, Loss: 0.6693791151046753\n",
            "Epoch: 099, Train: 0.6758, Val: 0.6113, Test: 0.6089, Loss: 0.668222963809967\n",
            "Epoch: 100, Train: 0.6778, Val: 0.6141, Test: 0.6129, Loss: 0.6645929217338562\n",
            "Epoch: 101, Train: 0.6807, Val: 0.6169, Test: 0.6166, Loss: 0.6636728644371033\n",
            "Epoch: 102, Train: 0.6848, Val: 0.6203, Test: 0.6200, Loss: 0.6622875332832336\n",
            "Epoch: 103, Train: 0.6836, Val: 0.6260, Test: 0.6247, Loss: 0.6641146540641785\n",
            "Epoch: 104, Train: 0.6973, Val: 0.6321, Test: 0.6293, Loss: 0.6564701795578003\n",
            "Epoch: 105, Train: 0.6997, Val: 0.6372, Test: 0.6338, Loss: 0.6566007733345032\n",
            "Epoch: 106, Train: 0.7173, Val: 0.6415, Test: 0.6404, Loss: 0.6573461890220642\n",
            "Epoch: 107, Train: 0.7117, Val: 0.6447, Test: 0.6443, Loss: 0.6505469679832458\n",
            "Epoch: 108, Train: 0.7146, Val: 0.6459, Test: 0.6481, Loss: 0.653606116771698\n",
            "Epoch: 109, Train: 0.7089, Val: 0.6471, Test: 0.6513, Loss: 0.6511979103088379\n",
            "Epoch: 110, Train: 0.7214, Val: 0.6482, Test: 0.6533, Loss: 0.6450444459915161\n",
            "Epoch: 111, Train: 0.7195, Val: 0.6497, Test: 0.6554, Loss: 0.6466372013092041\n",
            "Epoch: 112, Train: 0.7104, Val: 0.6509, Test: 0.6570, Loss: 0.6399097442626953\n",
            "Epoch: 113, Train: 0.7208, Val: 0.6524, Test: 0.6583, Loss: 0.6403893828392029\n",
            "Epoch: 114, Train: 0.7171, Val: 0.6541, Test: 0.6597, Loss: 0.635256826877594\n",
            "Epoch: 115, Train: 0.7288, Val: 0.6559, Test: 0.6608, Loss: 0.6400458216667175\n",
            "Epoch: 116, Train: 0.7158, Val: 0.6571, Test: 0.6619, Loss: 0.6296573281288147\n",
            "Epoch: 117, Train: 0.7200, Val: 0.6584, Test: 0.6628, Loss: 0.6372035145759583\n",
            "Epoch: 118, Train: 0.7222, Val: 0.6601, Test: 0.6635, Loss: 0.6289709806442261\n",
            "Epoch: 119, Train: 0.7219, Val: 0.6606, Test: 0.6642, Loss: 0.6252073049545288\n",
            "Epoch: 120, Train: 0.7208, Val: 0.6615, Test: 0.6652, Loss: 0.6220257878303528\n",
            "Epoch: 121, Train: 0.7386, Val: 0.6626, Test: 0.6664, Loss: 0.6223102807998657\n",
            "Epoch: 122, Train: 0.7250, Val: 0.6647, Test: 0.6682, Loss: 0.6272600889205933\n",
            "Epoch: 123, Train: 0.7385, Val: 0.6671, Test: 0.6705, Loss: 0.6183870434761047\n",
            "Epoch: 124, Train: 0.7261, Val: 0.6685, Test: 0.6717, Loss: 0.6189875602722168\n",
            "Epoch: 125, Train: 0.7500, Val: 0.6695, Test: 0.6725, Loss: 0.6106470823287964\n",
            "Epoch: 126, Train: 0.7459, Val: 0.6699, Test: 0.6737, Loss: 0.6173903942108154\n",
            "Epoch: 127, Train: 0.7527, Val: 0.6720, Test: 0.6753, Loss: 0.6093719601631165\n",
            "Epoch: 128, Train: 0.7521, Val: 0.6751, Test: 0.6783, Loss: 0.6028129458427429\n",
            "Epoch: 129, Train: 0.7523, Val: 0.6782, Test: 0.6808, Loss: 0.608834445476532\n",
            "Epoch: 130, Train: 0.7625, Val: 0.6795, Test: 0.6816, Loss: 0.5992138385772705\n",
            "Epoch: 131, Train: 0.7674, Val: 0.6804, Test: 0.6827, Loss: 0.6003830432891846\n",
            "Epoch: 132, Train: 0.7768, Val: 0.6834, Test: 0.6851, Loss: 0.5938252806663513\n",
            "Epoch: 133, Train: 0.7765, Val: 0.6859, Test: 0.6880, Loss: 0.5926346778869629\n",
            "Epoch: 134, Train: 0.7736, Val: 0.6872, Test: 0.6893, Loss: 0.5952796339988708\n",
            "Epoch: 135, Train: 0.7861, Val: 0.6888, Test: 0.6910, Loss: 0.5857004523277283\n",
            "Epoch: 136, Train: 0.7935, Val: 0.6894, Test: 0.6921, Loss: 0.5914455056190491\n",
            "Epoch: 137, Train: 0.7894, Val: 0.6914, Test: 0.6934, Loss: 0.5903276801109314\n",
            "Epoch: 138, Train: 0.7961, Val: 0.6940, Test: 0.6957, Loss: 0.5757774114608765\n",
            "Epoch: 139, Train: 0.8011, Val: 0.6962, Test: 0.6982, Loss: 0.5730167031288147\n",
            "Epoch: 140, Train: 0.7992, Val: 0.6981, Test: 0.6995, Loss: 0.5878289937973022\n",
            "Epoch: 141, Train: 0.7970, Val: 0.6994, Test: 0.6999, Loss: 0.5778694748878479\n",
            "Epoch: 142, Train: 0.8003, Val: 0.6993, Test: 0.6997, Loss: 0.5761672258377075\n",
            "Epoch: 143, Train: 0.8046, Val: 0.7003, Test: 0.7000, Loss: 0.5736105442047119\n",
            "Epoch: 144, Train: 0.8052, Val: 0.7008, Test: 0.7007, Loss: 0.5791504979133606\n",
            "Epoch: 145, Train: 0.8139, Val: 0.7025, Test: 0.7015, Loss: 0.5703021883964539\n",
            "Epoch: 146, Train: 0.7994, Val: 0.7040, Test: 0.7026, Loss: 0.5734953284263611\n",
            "Epoch: 147, Train: 0.8173, Val: 0.7055, Test: 0.7036, Loss: 0.5662286877632141\n",
            "Epoch: 148, Train: 0.8224, Val: 0.7053, Test: 0.7037, Loss: 0.5742869973182678\n",
            "Epoch: 149, Train: 0.8157, Val: 0.7047, Test: 0.7030, Loss: 0.5665298104286194\n",
            "Epoch: 150, Train: 0.8229, Val: 0.7034, Test: 0.7022, Loss: 0.5713344216346741\n",
            "Epoch: 151, Train: 0.8293, Val: 0.7032, Test: 0.7026, Loss: 0.5609563589096069\n",
            "Epoch: 152, Train: 0.8224, Val: 0.7037, Test: 0.7038, Loss: 0.5654308199882507\n",
            "Epoch: 153, Train: 0.8259, Val: 0.7053, Test: 0.7057, Loss: 0.5548995137214661\n",
            "Epoch: 154, Train: 0.8217, Val: 0.7051, Test: 0.7066, Loss: 0.5592396855354309\n",
            "Epoch: 155, Train: 0.8284, Val: 0.7037, Test: 0.7050, Loss: 0.5691503286361694\n",
            "Epoch: 156, Train: 0.8337, Val: 0.6989, Test: 0.7018, Loss: 0.5483406186103821\n",
            "Epoch: 157, Train: 0.8362, Val: 0.6995, Test: 0.7030, Loss: 0.5597192049026489\n",
            "Epoch: 158, Train: 0.8311, Val: 0.7008, Test: 0.7042, Loss: 0.5485487580299377\n",
            "Epoch: 159, Train: 0.8403, Val: 0.7025, Test: 0.7064, Loss: 0.5503180623054504\n",
            "Epoch: 160, Train: 0.8379, Val: 0.7024, Test: 0.7070, Loss: 0.5581340789794922\n",
            "Epoch: 161, Train: 0.8441, Val: 0.6992, Test: 0.7055, Loss: 0.5603244304656982\n",
            "Epoch: 162, Train: 0.8368, Val: 0.6967, Test: 0.7049, Loss: 0.5587629675865173\n",
            "Epoch: 163, Train: 0.8463, Val: 0.6995, Test: 0.7078, Loss: 0.558401346206665\n",
            "Epoch: 164, Train: 0.8438, Val: 0.7003, Test: 0.7097, Loss: 0.5495679974555969\n",
            "Epoch: 165, Train: 0.8561, Val: 0.6977, Test: 0.7085, Loss: 0.5588734149932861\n",
            "Epoch: 166, Train: 0.8412, Val: 0.6936, Test: 0.7060, Loss: 0.5462591052055359\n",
            "Epoch: 167, Train: 0.8527, Val: 0.6939, Test: 0.7077, Loss: 0.5497642755508423\n",
            "Epoch: 168, Train: 0.8515, Val: 0.6961, Test: 0.7116, Loss: 0.5498521327972412\n",
            "Epoch: 169, Train: 0.8601, Val: 0.6969, Test: 0.7138, Loss: 0.5446007251739502\n",
            "Epoch: 170, Train: 0.8641, Val: 0.6944, Test: 0.7119, Loss: 0.5383255481719971\n",
            "Epoch: 171, Train: 0.8599, Val: 0.6896, Test: 0.7082, Loss: 0.539280891418457\n",
            "Epoch: 172, Train: 0.8560, Val: 0.6875, Test: 0.7070, Loss: 0.5427708625793457\n",
            "Epoch: 173, Train: 0.8640, Val: 0.6936, Test: 0.7139, Loss: 0.5407335758209229\n",
            "Epoch: 174, Train: 0.8622, Val: 0.6967, Test: 0.7165, Loss: 0.5438247323036194\n",
            "Epoch: 175, Train: 0.8597, Val: 0.6938, Test: 0.7155, Loss: 0.5500447154045105\n",
            "Epoch: 176, Train: 0.8661, Val: 0.6892, Test: 0.7117, Loss: 0.5384790301322937\n",
            "Epoch: 177, Train: 0.8652, Val: 0.6851, Test: 0.7077, Loss: 0.5307945013046265\n",
            "Epoch: 178, Train: 0.8733, Val: 0.6923, Test: 0.7139, Loss: 0.54401695728302\n",
            "Epoch: 179, Train: 0.8684, Val: 0.6962, Test: 0.7181, Loss: 0.5356860160827637\n",
            "Epoch: 180, Train: 0.8672, Val: 0.6957, Test: 0.7171, Loss: 0.535977840423584\n",
            "Epoch: 181, Train: 0.8724, Val: 0.6868, Test: 0.7092, Loss: 0.5324745178222656\n",
            "Epoch: 182, Train: 0.8621, Val: 0.6808, Test: 0.7044, Loss: 0.5327553749084473\n",
            "Epoch: 183, Train: 0.8729, Val: 0.6914, Test: 0.7133, Loss: 0.5301335453987122\n",
            "Epoch: 184, Train: 0.8768, Val: 0.6953, Test: 0.7178, Loss: 0.5288096070289612\n",
            "Epoch: 185, Train: 0.8734, Val: 0.6926, Test: 0.7155, Loss: 0.5373417139053345\n",
            "Epoch: 186, Train: 0.8747, Val: 0.6803, Test: 0.7067, Loss: 0.5379916429519653\n",
            "Epoch: 187, Train: 0.8769, Val: 0.6719, Test: 0.7009, Loss: 0.5311942100524902\n",
            "Epoch: 188, Train: 0.8800, Val: 0.6875, Test: 0.7135, Loss: 0.5298886299133301\n",
            "Epoch: 189, Train: 0.8894, Val: 0.6933, Test: 0.7174, Loss: 0.5242417454719543\n",
            "Epoch: 190, Train: 0.8848, Val: 0.6902, Test: 0.7157, Loss: 0.5330518484115601\n",
            "Epoch: 191, Train: 0.8807, Val: 0.6744, Test: 0.7042, Loss: 0.5217648148536682\n",
            "Epoch: 192, Train: 0.8865, Val: 0.6794, Test: 0.7085, Loss: 0.5320223569869995\n",
            "Epoch: 193, Train: 0.8932, Val: 0.6926, Test: 0.7177, Loss: 0.5198705196380615\n",
            "Epoch: 194, Train: 0.8920, Val: 0.6943, Test: 0.7191, Loss: 0.5287635326385498\n",
            "Epoch: 195, Train: 0.8816, Val: 0.6875, Test: 0.7139, Loss: 0.5330914258956909\n",
            "Epoch: 196, Train: 0.8884, Val: 0.6759, Test: 0.7032, Loss: 0.5210802555084229\n",
            "Epoch: 197, Train: 0.8789, Val: 0.6861, Test: 0.7133, Loss: 0.5219142436981201\n",
            "Epoch: 198, Train: 0.8955, Val: 0.6946, Test: 0.7202, Loss: 0.5257050395011902\n",
            "Epoch: 199, Train: 0.8916, Val: 0.6958, Test: 0.7217, Loss: 0.5227653384208679\n",
            "Train: 0.8127, Val: 0.7055, Test: 0.7036\n"
          ]
        }
      ],
      "source": [
        "pyg_dataset = Planetoid('./dataset', 'Cora')\n",
        "graphs = GraphDataset.pyg_to_graphs(pyg_dataset)\n",
        "\n",
        "dataset = GraphDataset(\n",
        "        graphs,\n",
        "        task='link_pred',\n",
        "        edge_train_mode=\"disjoint\"\n",
        "    )\n",
        "datasets = {}\n",
        "datasets['train'], datasets['val'], datasets['test']= dataset.split(\n",
        "            transductive=True, split_ratio=[0.85, 0.05, 0.1])\n",
        "input_dim = datasets['train'].num_node_features\n",
        "num_classes = datasets['train'].num_edge_labels\n",
        "\n",
        "model = LinkPredModel(input_dim, args[\"hidden_dim\"], num_classes).to(args[\"device\"])\n",
        "model.reset_parameters()\n",
        "\n",
        "optimizer = torch.optim.SGD(model.parameters(), lr=0.1, momentum=0.9, weight_decay=5e-4)\n",
        "\n",
        "dataloaders = {split: DataLoader(\n",
        "            ds, collate_fn=Batch.collate([]),\n",
        "            batch_size=1, shuffle=(split=='train'))\n",
        "            for split, ds in datasets.items()}\n",
        "best_model = train(model, dataloaders, optimizer, args)\n",
        "best_train_roc = test(best_model, dataloaders['train'], args)\n",
        "best_val_roc = test(best_model, dataloaders['val'], args)\n",
        "best_test_roc = test(best_model, dataloaders['test'], args)\n",
        "print(f\"Train: {best_train_roc:.4f}, Val: {best_val_roc:.4f}, Test: {best_test_roc:.4f}\")"
      ]
    },
    {
      "cell_type": "markdown",
      "metadata": {
        "id": "j5brlsKElP0_"
      },
      "source": [
        "### 问题4：你最好的模型 `best_model` 在测试集上能获取到的 ROC-AUC 最高分是多少？"
      ]
    }
  ],
  "metadata": {
    "accelerator": "GPU",
    "colab": {
      "collapsed_sections": [],
      "machine_shape": "hm",
      "name": "CS224W - Colab 3.ipynb",
      "provenance": [],
      "toc_visible": true
    },
    "kernelspec": {
      "display_name": "Python 3.9.12 ('cs224w')",
      "language": "python",
      "name": "python3"
    },
    "language_info": {
      "codemirror_mode": {
        "name": "ipython",
        "version": 3
      },
      "file_extension": ".py",
      "mimetype": "text/x-python",
      "name": "python",
      "nbconvert_exporter": "python",
      "pygments_lexer": "ipython3",
      "version": "3.9.12"
    },
    "vscode": {
      "interpreter": {
        "hash": "3d401f214986802b882e8a583f41ee2435f6c7e7677ce5b0132581f351a1fd17"
      }
    }
  },
  "nbformat": 4,
  "nbformat_minor": 0
}
